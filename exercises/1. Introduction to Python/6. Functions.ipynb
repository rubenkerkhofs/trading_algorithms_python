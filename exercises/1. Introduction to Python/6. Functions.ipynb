{
 "cells": [
  {
   "cell_type": "code",
   "execution_count": 10,
   "id": "40152976",
   "metadata": {},
   "outputs": [
    {
     "data": {
      "text/plain": [
       "['JAN', 'IGNACE', 'TOON']"
      ]
     },
     "execution_count": 10,
     "metadata": {},
     "output_type": "execute_result"
    }
   ],
   "source": [
    "employees = ['Jan', 'Ignace', 'Toon']\n",
    "employees_upper = []\n",
    "\n",
    "for n in employees:\n",
    "    employees_upper.append(n.upper())\n",
    "    \n",
    "employees_upper"
   ]
  },
  {
   "cell_type": "code",
   "execution_count": 12,
   "id": "54984484",
   "metadata": {},
   "outputs": [
    {
     "data": {
      "text/plain": [
       "['JAN', 'IGNACE', 'TOON']"
      ]
     },
     "execution_count": 12,
     "metadata": {},
     "output_type": "execute_result"
    }
   ],
   "source": [
    "employees_upper = [n.upper() for n in employees]\n",
    "employees_upper"
   ]
  },
  {
   "cell_type": "code",
   "execution_count": null,
   "id": "544a6bc2",
   "metadata": {},
   "outputs": [],
   "source": []
  },
  {
   "cell_type": "code",
   "execution_count": 14,
   "id": "e16dfe9a",
   "metadata": {},
   "outputs": [
    {
     "data": {
      "text/plain": [
       "'ANOTHER_LOWERCASE'"
      ]
     },
     "execution_count": 14,
     "metadata": {},
     "output_type": "execute_result"
    }
   ],
   "source": [
    "some_string = 'lowercase'\n",
    "another_string = 'another_lowercase'"
   ]
  },
  {
   "cell_type": "code",
   "execution_count": 17,
   "id": "29a4534d",
   "metadata": {},
   "outputs": [
    {
     "data": {
      "text/plain": [
       "'LOWERCA'"
      ]
     },
     "execution_count": 17,
     "metadata": {},
     "output_type": "execute_result"
    }
   ],
   "source": [
    "def convert_to_upper(input_string):\n",
    "    input_string = input_string[:-2]\n",
    "    return input_string.upper()\n",
    "\n",
    "convert_to_upper(some_string)"
   ]
  },
  {
   "cell_type": "code",
   "execution_count": 18,
   "id": "800c75a1",
   "metadata": {},
   "outputs": [
    {
     "data": {
      "text/plain": [
       "'ANOTHER_LOWERCA'"
      ]
     },
     "execution_count": 18,
     "metadata": {},
     "output_type": "execute_result"
    }
   ],
   "source": [
    "convert_to_upper(another_string)"
   ]
  },
  {
   "cell_type": "code",
   "execution_count": null,
   "id": "bd942f93",
   "metadata": {},
   "outputs": [],
   "source": []
  }
 ],
 "metadata": {
  "kernelspec": {
   "display_name": "Python 3 (ipykernel)",
   "language": "python",
   "name": "python3"
  },
  "language_info": {
   "codemirror_mode": {
    "name": "ipython",
    "version": 3
   },
   "file_extension": ".py",
   "mimetype": "text/x-python",
   "name": "python",
   "nbconvert_exporter": "python",
   "pygments_lexer": "ipython3",
   "version": "3.9.16"
  }
 },
 "nbformat": 4,
 "nbformat_minor": 5
}
