{
 "cells": [
  {
   "cell_type": "markdown",
   "id": "68a8fdbf",
   "metadata": {},
   "source": [
    "# Object-Oriented Programming\n",
    "OOP is a powerful programming paradigm that allows us to organize code into objects, which are self-contained units encapsulating data and behavior. This paradigm is widely used in software development and is especially beneficial when dealing with complex systems or simulations. By adopting an object-oriented approach, we can create modular, reusable, and maintainable code.\n",
    "\n",
    "To illustrate the principles of OOP, we will focus on a practical example: pricing a European Call Option. A Call Option gives the holder the right, but not the obligation, to buy an underlying asset at a predetermined price (the strike price) within a specific time period (until the option's expiration date). The pricing of options is a fundamental concept in finance and is extensively used in derivatives trading.\n",
    "\n",
    "By developing an object to price a European Call Option, we will demonstrate how to structure code using classes, define attributes and methods, and implement key functionalities. This notebook will guide you step-by-step through the process, allowing you to grasp the core concepts of OOP.\n",
    "\n",
    "## Equity Class\n",
    "In this section, we will focus on developing a fundamental building block for pricing European Call Options: the Equity class. Before we can price options, we need to understand the underlying asset on which the options are based. An equity represents ownership in a company or an asset, such as stocks or shares. By creating an Equity class, we establish a foundation for modeling and analyzing the behavior of the underlying asset."
   ]
  },
  {
   "cell_type": "code",
   "execution_count": 1,
   "id": "3632fb65",
   "metadata": {},
   "outputs": [],
   "source": [
    "class Equity:\n",
    "    \"\"\"\n",
    "        An equity represents ownership in a company or an asset, such as stocks or shares.\n",
    "    \"\"\"\n",
    "    def __init__(self, s, n):\n",
    "        \"\"\"\n",
    "        Parameters:\n",
    "            s (float): the share price\n",
    "            n (int):   the number of shares\n",
    "        \"\"\"\n",
    "        self.s = s\n",
    "        self.n = n\n",
    "    \n",
    "    @property\n",
    "    def theoretical_value(self):\n",
    "        return self.s\n",
    "    \n",
    "    @property\n",
    "    def market_value(self):\n",
    "        return self.theoretical_value*self.n\n",
    "    \n",
    "    @property\n",
    "    def delta(self):\n",
    "        return 1\n",
    "    \n",
    "    @property\n",
    "    def total_delta(self):\n",
    "        return self.delta*self.n*self.s\n",
    "    \n",
    "    def update_share_price(self, new_price):\n",
    "        self.s = new_price"
   ]
  },
  {
   "cell_type": "code",
   "execution_count": 2,
   "id": "97064c46",
   "metadata": {},
   "outputs": [
    {
     "name": "stdout",
     "output_type": "stream",
     "text": [
      "Market Value: $1750\n",
      "Market Value: $1850\n"
     ]
    }
   ],
   "source": [
    "apple = Equity(s=175, n=10)\n",
    "print('Market Value: ${:2}'.format(apple.market_value))\n",
    "apple.update_share_price(185)\n",
    "print('Market Value: ${:2}'.format(apple.market_value))\n"
   ]
  },
  {
   "cell_type": "markdown",
   "id": "e919bb09",
   "metadata": {},
   "source": [
    "## Option class"
   ]
  },
  {
   "cell_type": "code",
   "execution_count": 3,
   "id": "762a53c0",
   "metadata": {},
   "outputs": [],
   "source": [
    "import numpy as np\n",
    "import scipy.stats as sp\n",
    "\n",
    "class EuCall(Equity):\n",
    "    def __init__(self,t, s, k, r, q, v,n):\n",
    "        \"\"\"\n",
    "        t = maturity\n",
    "        s = spot price (underlying)\n",
    "        k = strike\n",
    "        r = interest rate\n",
    "        q = div yield\n",
    "        v = volatility\n",
    "        n = nbr of options\n",
    "        Example : EuCall(5,100,100,0.03,0.01,0.4,100)\n",
    "        \"\"\"\n",
    "        self.s = s\n",
    "        self.t = t\n",
    "        self.k = k\n",
    "        self.r = r\n",
    "        self.q = q\n",
    "        self.v = v\n",
    "        self.n = n\n",
    "    \n",
    "    def __str__(self):\n",
    "        return str(self.n)+\"x\"+\" EUCALL Strike=\" + str(self.k)\n",
    "    \n",
    "    @property\n",
    "    def theoretical_value(self):\n",
    "        if self.t <= 0:\n",
    "            return max(self.s - self.k, 0)\n",
    "        else:\n",
    "            d1 = (1/(self.v*np.sqrt(self.t))) * (np.log(self.s/self.k)+ (self.r-self.q+0.5*self.v**2)*self.t)\n",
    "            d2 = d1 - self.v*np.sqrt(self.t)\n",
    "            return self.s*np.exp(-self.q*self.t)*sp.norm().cdf(d1)-sp.norm().cdf(d2)*self.k*np.exp(-self.r*self.t)\n",
    "        \n",
    "    @property\n",
    "    def delta(self):\n",
    "        s0 = self.s\n",
    "        s_plus = self.s*1.001\n",
    "        s_minus = self.s*(0.999)\n",
    "        self.s = s_plus\n",
    "        theovalue_plus = self.theoretical_value\n",
    "        self.s = s_minus\n",
    "        theovalue_minus = self.theoretical_value\n",
    "        self.s = s0\n",
    "        return (theovalue_plus - theovalue_minus)/(s_plus-s_minus)"
   ]
  },
  {
   "cell_type": "code",
   "execution_count": 4,
   "id": "8e424e29",
   "metadata": {},
   "outputs": [
    {
     "name": "stdout",
     "output_type": "stream",
     "text": [
      "Delta:        0.5927\n",
      "Market Value: 16.5382\n"
     ]
    }
   ],
   "source": [
    "a = EuCall(1,100,100,0.03,0.01,0.4,1)\n",
    "print('Delta:        {}'.format(round(a.delta, 4)))\n",
    "print('Market Value: {}'.format(round(a.market_value, 4)))"
   ]
  }
 ],
 "metadata": {
  "kernelspec": {
   "display_name": "Python 3 (ipykernel)",
   "language": "python",
   "name": "python3"
  },
  "language_info": {
   "codemirror_mode": {
    "name": "ipython",
    "version": 3
   },
   "file_extension": ".py",
   "mimetype": "text/x-python",
   "name": "python",
   "nbconvert_exporter": "python",
   "pygments_lexer": "ipython3",
   "version": "3.9.16"
  }
 },
 "nbformat": 4,
 "nbformat_minor": 5
}
