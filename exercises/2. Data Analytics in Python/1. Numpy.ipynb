{
 "cells": [
  {
   "cell_type": "markdown",
   "id": "34f1ffa1",
   "metadata": {},
   "source": [
    "# Numpy\n",
    "The numpy package is used for doing mathematical operations and computing basic statistics. A key feature of the numpy package is that it introduces the *ndarray* datatype. \n",
    "\n",
    "Start by importing the numpy package:"
   ]
  },
  {
   "cell_type": "code",
   "execution_count": 2,
   "id": "d9ed2331",
   "metadata": {},
   "outputs": [],
   "source": [
    "import numpy as np # convention"
   ]
  },
  {
   "cell_type": "markdown",
   "id": "43e45db5",
   "metadata": {},
   "source": [
    "There are multiple ways of creating an array. Arrays are commonly created from lists, but alteratively, random arrays can be generated as well."
   ]
  },
  {
   "cell_type": "code",
   "execution_count": 3,
   "id": "80a0b33f",
   "metadata": {},
   "outputs": [
    {
     "name": "stdout",
     "output_type": "stream",
     "text": [
      "<class 'numpy.ndarray'>\n"
     ]
    },
    {
     "data": {
      "text/plain": [
       "array([0, 1, 2, 3, 4])"
      ]
     },
     "execution_count": 3,
     "metadata": {},
     "output_type": "execute_result"
    }
   ],
   "source": [
    "# Create a one dimensional array using the np.arange function\n",
    "one_d_array = np.arange(5)\n",
    "print(type(one_d_array))\n",
    "one_d_array"
   ]
  },
  {
   "cell_type": "code",
   "execution_count": 3,
   "id": "c1c8cb0d",
   "metadata": {},
   "outputs": [
    {
     "name": "stdout",
     "output_type": "stream",
     "text": [
      "<class 'numpy.ndarray'>\n"
     ]
    }
   ],
   "source": [
    "# Create a numpy array from the following list\n",
    "some_list = [10, 30, 25, 76, 11]\n",
    "from_list_array = np.array(some_list)\n",
    "print(type(from_list_array))"
   ]
  },
  {
   "cell_type": "markdown",
   "id": "04affb4b",
   "metadata": {},
   "source": [
    "#### Basic vector operations\n",
    "Perform basic vector operations on the following arrays:"
   ]
  },
  {
   "cell_type": "code",
   "execution_count": 8,
   "id": "ea7fc808",
   "metadata": {},
   "outputs": [
    {
     "data": {
      "text/plain": [
       "(array([83, 66, 33, 51, 84, 89, 25, 41, 64, 54, 17, 28, 95,  7, 46, 13, 56,\n",
       "        84, 69, 66, 20, 69, 96, 60, 33, 51, 38, 36, 39,  3, 35, 23, 88, 36,\n",
       "        56, 39, 78, 24, 15,  5, 10,  9, 41, 82, 82, 29, 44, 13, 60, 48]),\n",
       " array([5, 6, 5, 1, 0, 7, 2, 8, 7, 8, 6, 5, 8, 9, 2, 9, 6, 1, 6, 5, 7, 0,\n",
       "        4, 7, 5, 7, 6, 0, 5, 2, 6, 1, 8, 4, 7, 7, 8, 9, 3, 6, 0, 2, 5, 5,\n",
       "        6, 6, 9, 6, 2, 9]))"
      ]
     },
     "execution_count": 8,
     "metadata": {},
     "output_type": "execute_result"
    }
   ],
   "source": [
    "a = np.random.randint(100, size=(50))\n",
    "b = np.random.randint(10, size=(50))\n",
    "a, b"
   ]
  },
  {
   "cell_type": "markdown",
   "id": "ed7562e9",
   "metadata": {},
   "source": [
    "Add the two arrays (element-wise)"
   ]
  },
  {
   "cell_type": "code",
   "execution_count": 5,
   "id": "57eb8c42",
   "metadata": {},
   "outputs": [
    {
     "data": {
      "text/plain": [
       "array([  1,  20,  58,  72,  16,  85,  22,  22,  35,  59,  87,  47,  81,\n",
       "        82,  68,  83,  66,  65,  54,  53,  89, 102,  91,  23, 108,  37,\n",
       "        23,  56,  77,  11,  13,  68,   2,  30,  97,  83,  73,  42,  11,\n",
       "        47,  78,  85,  38,   6,  55,  79,  89,  31,  87,   9])"
      ]
     },
     "execution_count": 5,
     "metadata": {},
     "output_type": "execute_result"
    }
   ],
   "source": [
    "a + b"
   ]
  },
  {
   "cell_type": "markdown",
   "id": "a65a5e81",
   "metadata": {},
   "source": [
    "Compute the dot product of the arrays"
   ]
  },
  {
   "cell_type": "code",
   "execution_count": 9,
   "id": "fcef4e17",
   "metadata": {},
   "outputs": [
    {
     "data": {
      "text/plain": [
       "12227"
      ]
     },
     "execution_count": 9,
     "metadata": {},
     "output_type": "execute_result"
    }
   ],
   "source": [
    "np.dot(a, b)"
   ]
  },
  {
   "cell_type": "markdown",
   "id": "c5783f3e",
   "metadata": {},
   "source": [
    "Compute the minimum, maximum, mean, and median of array a"
   ]
  },
  {
   "cell_type": "code",
   "execution_count": 12,
   "id": "eaa61f53",
   "metadata": {},
   "outputs": [
    {
     "name": "stdout",
     "output_type": "stream",
     "text": [
      "3\n",
      "96\n",
      "42.5\n",
      "46.66\n"
     ]
    }
   ],
   "source": [
    "print(a.min())\n",
    "print(a.max())\n",
    "print(np.median(a))\n",
    "print(a.mean())"
   ]
  },
  {
   "cell_type": "markdown",
   "id": "671f5ce0",
   "metadata": {},
   "source": [
    "**Matrices**\n",
    "\n",
    "Random matrices can be computed in the same way as above. Create a random matrix with shape 5x5 and values as integers between 0 and 100."
   ]
  },
  {
   "cell_type": "code",
   "execution_count": 14,
   "id": "d8cd43a0",
   "metadata": {},
   "outputs": [
    {
     "data": {
      "text/plain": [
       "array([[68, 51, 69, 39, 30],\n",
       "       [ 4, 50, 75, 96, 88],\n",
       "       [38, 80, 20, 75, 16],\n",
       "       [63, 30, 82, 19, 49],\n",
       "       [94, 44, 44, 23, 53]])"
      ]
     },
     "execution_count": 14,
     "metadata": {},
     "output_type": "execute_result"
    }
   ],
   "source": [
    "a = np.random.randint(100, size=(5, 5))\n",
    "a"
   ]
  },
  {
   "cell_type": "markdown",
   "id": "9233b33f",
   "metadata": {},
   "source": [
    "Compute the eigenvalues and eigenvectors of a"
   ]
  },
  {
   "cell_type": "code",
   "execution_count": 15,
   "id": "50aefeae",
   "metadata": {},
   "outputs": [
    {
     "data": {
      "text/plain": [
       "array([259.37911058 +0.j        , -51.83694637 +0.j        ,\n",
       "         8.30860988+31.12190681j,   8.30860988-31.12190681j,\n",
       "       -14.15938398 +0.j        ])"
      ]
     },
     "execution_count": 15,
     "metadata": {},
     "output_type": "execute_result"
    }
   ],
   "source": [
    "eigenvalues, eigenvectors = np.linalg.eig(a)\n",
    "eigenvalues"
   ]
  },
  {
   "cell_type": "markdown",
   "id": "f7f2a51f",
   "metadata": {},
   "source": [
    "Compute the transpose of a"
   ]
  },
  {
   "cell_type": "code",
   "execution_count": 16,
   "id": "022b9e4d",
   "metadata": {},
   "outputs": [
    {
     "data": {
      "text/plain": [
       "array([[68,  4, 38, 63, 94],\n",
       "       [51, 50, 80, 30, 44],\n",
       "       [69, 75, 20, 82, 44],\n",
       "       [39, 96, 75, 19, 23],\n",
       "       [30, 88, 16, 49, 53]])"
      ]
     },
     "execution_count": 16,
     "metadata": {},
     "output_type": "execute_result"
    }
   ],
   "source": [
    "a.transpose()"
   ]
  },
  {
   "cell_type": "markdown",
   "id": "975a3f1f",
   "metadata": {},
   "source": [
    "Compute the covariance matrix of a"
   ]
  },
  {
   "cell_type": "code",
   "execution_count": 17,
   "id": "4bf6b9f8",
   "metadata": {},
   "outputs": [
    {
     "data": {
      "text/plain": [
       "array([[ 299.3 , -426.8 ,  -80.4 ,  298.2 ,  224.45],\n",
       "       [-426.8 , 1376.8 ,  -18.85, -293.45, -850.7 ],\n",
       "       [ -80.4 ,  -18.85,  909.2 , -621.6 , -317.85],\n",
       "       [ 298.2 , -293.45, -621.6 ,  636.3 ,  336.3 ],\n",
       "       [ 224.45, -850.7 , -317.85,  336.3 ,  683.3 ]])"
      ]
     },
     "execution_count": 17,
     "metadata": {},
     "output_type": "execute_result"
    }
   ],
   "source": [
    "np.cov(a)"
   ]
  },
  {
   "cell_type": "markdown",
   "id": "8afdb2e3",
   "metadata": {},
   "source": [
    "Compute the minimum values for the entire matrix, each individual row, and each individual column"
   ]
  },
  {
   "cell_type": "code",
   "execution_count": 18,
   "id": "dc7d10a8",
   "metadata": {},
   "outputs": [
    {
     "name": "stdout",
     "output_type": "stream",
     "text": [
      "4\n",
      "[ 4 30 20 19 16]\n",
      "[30  4 16 19 23]\n"
     ]
    }
   ],
   "source": [
    "print(np.min(a))\n",
    "print(np.min(a, axis=0))\n",
    "print(np.min(a, axis=1))"
   ]
  },
  {
   "cell_type": "markdown",
   "id": "149334df",
   "metadata": {},
   "source": [
    "#### Subsetting"
   ]
  },
  {
   "cell_type": "code",
   "execution_count": 27,
   "id": "e978a2f9",
   "metadata": {},
   "outputs": [
    {
     "name": "stdout",
     "output_type": "stream",
     "text": [
      "24.4 53.333333333333336\n"
     ]
    }
   ],
   "source": [
    "ages = np.array([26, 31, 28, 56, 45, 19, 18, 59])\n",
    "\n",
    "juniors = ages[ages < 35]\n",
    "seniors = ages[ages >= 35]\n",
    "\n",
    "mean_age_juniors = juniors.mean()\n",
    "mean_age_seniors = seniors.mean()\n",
    "print(mean_age_juniors, mean_age_seniors)"
   ]
  },
  {
   "cell_type": "markdown",
   "id": "419ad537",
   "metadata": {},
   "source": [
    "## Revisit variable assignments"
   ]
  },
  {
   "cell_type": "code",
   "execution_count": 14,
   "id": "94cc0077",
   "metadata": {},
   "outputs": [
    {
     "data": {
      "text/plain": [
       "(array([0, 1, 2, 3, 4]), array([0, 1, 2, 3, 4]))"
      ]
     },
     "execution_count": 14,
     "metadata": {},
     "output_type": "execute_result"
    }
   ],
   "source": [
    "a = np.arange(5)\n",
    "b = a\n",
    "a, b"
   ]
  },
  {
   "cell_type": "code",
   "execution_count": 15,
   "id": "10d3c75e",
   "metadata": {},
   "outputs": [
    {
     "data": {
      "text/plain": [
       "array([100,   1,   2,   3,   4])"
      ]
     },
     "execution_count": 15,
     "metadata": {},
     "output_type": "execute_result"
    }
   ],
   "source": [
    "a[0] = 100\n",
    "a"
   ]
  },
  {
   "cell_type": "code",
   "execution_count": 16,
   "id": "c018cbd1",
   "metadata": {},
   "outputs": [
    {
     "data": {
      "text/plain": [
       "array([100,   1,   2,   3,   4])"
      ]
     },
     "execution_count": 16,
     "metadata": {},
     "output_type": "execute_result"
    }
   ],
   "source": [
    "b"
   ]
  },
  {
   "cell_type": "markdown",
   "id": "c3ea2c67",
   "metadata": {},
   "source": [
    "With masking"
   ]
  },
  {
   "cell_type": "code",
   "execution_count": 17,
   "id": "b6400b6c",
   "metadata": {},
   "outputs": [
    {
     "data": {
      "text/plain": [
       "1"
      ]
     },
     "execution_count": 17,
     "metadata": {},
     "output_type": "execute_result"
    }
   ],
   "source": [
    "c = a[:2]\n",
    "a[0] = 1\n",
    "c[0]"
   ]
  },
  {
   "cell_type": "code",
   "execution_count": 18,
   "id": "cfd4e88e",
   "metadata": {},
   "outputs": [
    {
     "data": {
      "text/plain": [
       "1"
      ]
     },
     "execution_count": 18,
     "metadata": {},
     "output_type": "execute_result"
    }
   ],
   "source": [
    "d = a[[0, 1]]\n",
    "a[0] = 100\n",
    "d[0]"
   ]
  },
  {
   "cell_type": "code",
   "execution_count": 19,
   "id": "ed12e932",
   "metadata": {},
   "outputs": [
    {
     "name": "stdout",
     "output_type": "stream",
     "text": [
      "False\n",
      "True\n"
     ]
    }
   ],
   "source": [
    "print(c.flags.owndata)\n",
    "print(d.flags.owndata)"
   ]
  },
  {
   "cell_type": "code",
   "execution_count": 20,
   "id": "4d455213",
   "metadata": {},
   "outputs": [
    {
     "name": "stdout",
     "output_type": "stream",
     "text": [
      "True\n"
     ]
    },
    {
     "data": {
      "text/plain": [
       "100"
      ]
     },
     "execution_count": 20,
     "metadata": {},
     "output_type": "execute_result"
    }
   ],
   "source": [
    "c = a[:2].copy()\n",
    "a[0] = 1\n",
    "print(c.flags.owndata)\n",
    "c[0]"
   ]
  },
  {
   "cell_type": "markdown",
   "id": "308d7a08",
   "metadata": {},
   "source": [
    "Test for understanding"
   ]
  },
  {
   "cell_type": "code",
   "execution_count": 21,
   "id": "2ffb41fb",
   "metadata": {},
   "outputs": [
    {
     "data": {
      "text/plain": [
       "array([0, 1, 2, 3, 4, 5, 6, 7, 8, 9])"
      ]
     },
     "execution_count": 21,
     "metadata": {},
     "output_type": "execute_result"
    }
   ],
   "source": [
    "an_array = np.arange(10)\n",
    "an_array"
   ]
  },
  {
   "cell_type": "code",
   "execution_count": 22,
   "id": "6c1473d3",
   "metadata": {},
   "outputs": [
    {
     "name": "stdout",
     "output_type": "stream",
     "text": [
      "[0 1 2 0 4 5 6 7 8 9]\n"
     ]
    }
   ],
   "source": [
    "an_array[3:4][0] = 0\n",
    "print(an_array)"
   ]
  },
  {
   "cell_type": "code",
   "execution_count": 23,
   "id": "bd758dbd",
   "metadata": {},
   "outputs": [
    {
     "name": "stdout",
     "output_type": "stream",
     "text": [
      "[0 1 2 0 4 5 6 7 8 9]\n"
     ]
    }
   ],
   "source": [
    "an_array[[3]][0] = 3\n",
    "print(an_array)"
   ]
  }
 ],
 "metadata": {
  "kernelspec": {
   "display_name": "Python 3 (ipykernel)",
   "language": "python",
   "name": "python3"
  },
  "language_info": {
   "codemirror_mode": {
    "name": "ipython",
    "version": 3
   },
   "file_extension": ".py",
   "mimetype": "text/x-python",
   "name": "python",
   "nbconvert_exporter": "python",
   "pygments_lexer": "ipython3",
   "version": "3.9.16"
  }
 },
 "nbformat": 4,
 "nbformat_minor": 5
}
