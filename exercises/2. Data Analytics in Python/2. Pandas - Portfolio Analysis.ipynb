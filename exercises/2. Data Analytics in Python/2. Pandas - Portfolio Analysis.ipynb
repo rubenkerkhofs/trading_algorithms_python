{
 "cells": [
  {
   "cell_type": "markdown",
   "metadata": {
    "id": "jnTdloC56Exd"
   },
   "source": [
    "## Portfolio Analysis using Pandas\n",
    "Python Pandas, a widely used data manipulation and analysis library, provides an ideal toolkit for working with financial data. Its intuitive and versatile functionalities enable us to efficiently handle large datasets, perform complex calculations, and visualize the results. By leveraging the capabilities of Pandas, we can streamline our portfolio analysis and gain valuable insights into the performance of different trading strategies.\n",
    "\n",
    "In this notebook, we will embark on a journey to analyze a portfolio using Python Pandas."
   ]
  },
  {
   "cell_type": "markdown",
   "metadata": {
    "id": "OsefSwj36Exe"
   },
   "source": [
    "### Data import"
   ]
  },
  {
   "cell_type": "code",
   "execution_count": 1,
   "metadata": {
    "executionInfo": {
     "elapsed": 974,
     "status": "ok",
     "timestamp": 1608044932745,
     "user": {
      "displayName": "Thomas Nelen",
      "photoUrl": "",
      "userId": "09198946240301374422"
     },
     "user_tz": -60
    },
    "id": "lpyn1YJ56Exf"
   },
   "outputs": [],
   "source": [
    "import pandas as pd"
   ]
  },
  {
   "cell_type": "code",
   "execution_count": 2,
   "metadata": {
    "colab": {
     "base_uri": "https://localhost:8080/",
     "height": 142
    },
    "executionInfo": {
     "elapsed": 26846,
     "status": "ok",
     "timestamp": 1608044542722,
     "user": {
      "displayName": "Thomas Nelen",
      "photoUrl": "",
      "userId": "09198946240301374422"
     },
     "user_tz": -60
    },
    "id": "sIUl2FM76Exf",
    "outputId": "593fc035-1904-4b2f-f230-79f25dcfce44"
   },
   "outputs": [
    {
     "data": {
      "text/html": [
       "<div>\n",
       "<style scoped>\n",
       "    .dataframe tbody tr th:only-of-type {\n",
       "        vertical-align: middle;\n",
       "    }\n",
       "\n",
       "    .dataframe tbody tr th {\n",
       "        vertical-align: top;\n",
       "    }\n",
       "\n",
       "    .dataframe thead th {\n",
       "        text-align: right;\n",
       "    }\n",
       "</style>\n",
       "<table border=\"1\" class=\"dataframe\">\n",
       "  <thead>\n",
       "    <tr style=\"text-align: right;\">\n",
       "      <th></th>\n",
       "      <th>date</th>\n",
       "      <th>country</th>\n",
       "      <th>sector</th>\n",
       "      <th>exposure</th>\n",
       "      <th>mtd</th>\n",
       "      <th>nav</th>\n",
       "      <th>strategy</th>\n",
       "      <th>type</th>\n",
       "      <th>issuer</th>\n",
       "    </tr>\n",
       "  </thead>\n",
       "  <tbody>\n",
       "    <tr>\n",
       "      <th>20000</th>\n",
       "      <td>2018-11-30</td>\n",
       "      <td>Italy</td>\n",
       "      <td>Diversified</td>\n",
       "      <td>827701.927532</td>\n",
       "      <td>662185.982675</td>\n",
       "      <td>1.335799e+08</td>\n",
       "      <td>CAPITAL MARKETS</td>\n",
       "      <td>Equity Right</td>\n",
       "      <td>Spaxs SpA</td>\n",
       "    </tr>\n",
       "    <tr>\n",
       "      <th>20750</th>\n",
       "      <td>2018-12-31</td>\n",
       "      <td>Norway</td>\n",
       "      <td>Energy</td>\n",
       "      <td>0.000000</td>\n",
       "      <td>0.000000</td>\n",
       "      <td>1.019061e+08</td>\n",
       "      <td>SPECIAL SITUATIONS</td>\n",
       "      <td>Bond Corporate</td>\n",
       "      <td>DNO ASA</td>\n",
       "    </tr>\n",
       "    <tr>\n",
       "      <th>7732</th>\n",
       "      <td>2018-05-31</td>\n",
       "      <td>United Kingdom</td>\n",
       "      <td>Communications</td>\n",
       "      <td>0.000000</td>\n",
       "      <td>0.000000</td>\n",
       "      <td>2.027182e+08</td>\n",
       "      <td>SPECIAL SITUATIONS</td>\n",
       "      <td>Contract for Difference</td>\n",
       "      <td>INMARSAT PLC</td>\n",
       "    </tr>\n",
       "  </tbody>\n",
       "</table>\n",
       "</div>"
      ],
      "text/plain": [
       "            date         country          sector       exposure  \\\n",
       "20000 2018-11-30           Italy     Diversified  827701.927532   \n",
       "20750 2018-12-31          Norway          Energy       0.000000   \n",
       "7732  2018-05-31  United Kingdom  Communications       0.000000   \n",
       "\n",
       "                 mtd           nav            strategy  \\\n",
       "20000  662185.982675  1.335799e+08     CAPITAL MARKETS   \n",
       "20750       0.000000  1.019061e+08  SPECIAL SITUATIONS   \n",
       "7732        0.000000  2.027182e+08  SPECIAL SITUATIONS   \n",
       "\n",
       "                          type        issuer  \n",
       "20000             Equity Right     Spaxs SpA  \n",
       "20750           Bond Corporate       DNO ASA  \n",
       "7732   Contract for Difference  INMARSAT PLC  "
      ]
     },
     "execution_count": 2,
     "metadata": {},
     "output_type": "execute_result"
    }
   ],
   "source": [
    "portfolio = pd.read_excel('data/portfolio.xls')\n",
    "portfolio.sample(3)"
   ]
  },
  {
   "cell_type": "markdown",
   "metadata": {
    "id": "2EOMHDVO6Exf"
   },
   "source": [
    "Some basic explorations of the data can be done using the .info() and .describe() methods of the pandas DataFrame class."
   ]
  },
  {
   "cell_type": "code",
   "execution_count": null,
   "metadata": {},
   "outputs": [],
   "source": []
  },
  {
   "cell_type": "markdown",
   "metadata": {},
   "source": [
    "## Basic Data Manipulation"
   ]
  },
  {
   "cell_type": "markdown",
   "metadata": {},
   "source": [
    "**Exercise 1**: get all observations with country equal to switzerland and save it in a new DataFrame object named *portfolio_swiss*"
   ]
  },
  {
   "cell_type": "code",
   "execution_count": null,
   "metadata": {},
   "outputs": [],
   "source": []
  },
  {
   "cell_type": "markdown",
   "metadata": {},
   "source": [
    "**Exercise 2**: set the index of the *portfolio swiss* DataFrame to the date using the .set_index() method"
   ]
  },
  {
   "cell_type": "code",
   "execution_count": null,
   "metadata": {},
   "outputs": [],
   "source": []
  },
  {
   "cell_type": "markdown",
   "metadata": {},
   "source": [
    "**Exercise 3**: remove all observations for which the exposure is equal to 0"
   ]
  },
  {
   "cell_type": "code",
   "execution_count": null,
   "metadata": {},
   "outputs": [],
   "source": []
  },
  {
   "cell_type": "markdown",
   "metadata": {},
   "source": [
    "## Creating new columns\n",
    "The pandas package makes it straightforward to create additional (computed) columns of the database.\n",
    "\n",
    "**Exercise 4**: Create two new columns names *exposure_rebased* and *mtd_rebased* which take the original exposure and mtd columns and divide the by the nav"
   ]
  },
  {
   "cell_type": "code",
   "execution_count": null,
   "metadata": {},
   "outputs": [],
   "source": []
  },
  {
   "cell_type": "markdown",
   "metadata": {},
   "source": [
    "**Exercise 5**: drop the original exposure and mtd columns"
   ]
  },
  {
   "cell_type": "code",
   "execution_count": null,
   "metadata": {},
   "outputs": [],
   "source": []
  },
  {
   "cell_type": "markdown",
   "metadata": {},
   "source": [
    "## Computing results\n",
    "**Exercise 6**: show all the results for the issure *Nestle SA*"
   ]
  },
  {
   "cell_type": "code",
   "execution_count": null,
   "metadata": {},
   "outputs": [],
   "source": []
  },
  {
   "cell_type": "markdown",
   "metadata": {},
   "source": [
    "**Exercise 7**: copute the total performance for each issuer by summing the individual mtd_rebased values per issuer"
   ]
  },
  {
   "cell_type": "code",
   "execution_count": null,
   "metadata": {},
   "outputs": [],
   "source": []
  },
  {
   "cell_type": "markdown",
   "metadata": {},
   "source": [
    "**Exercise 8**: sort the values such that the largest winners are at the top"
   ]
  },
  {
   "cell_type": "code",
   "execution_count": null,
   "metadata": {},
   "outputs": [],
   "source": []
  },
  {
   "cell_type": "markdown",
   "metadata": {},
   "source": [
    "**Exercise 8**: determine the PNL per strategy in a similar way as above**"
   ]
  },
  {
   "cell_type": "code",
   "execution_count": null,
   "metadata": {},
   "outputs": [],
   "source": []
  }
 ],
 "metadata": {
  "colab": {
   "collapsed_sections": [],
   "name": "PortfolioAnalysis.ipynb",
   "provenance": []
  },
  "kernelspec": {
   "display_name": "Python 3 (ipykernel)",
   "language": "python",
   "name": "python3"
  },
  "language_info": {
   "codemirror_mode": {
    "name": "ipython",
    "version": 3
   },
   "file_extension": ".py",
   "mimetype": "text/x-python",
   "name": "python",
   "nbconvert_exporter": "python",
   "pygments_lexer": "ipython3",
   "version": "3.9.13"
  },
  "toc": {
   "base_numbering": 1,
   "nav_menu": {},
   "number_sections": true,
   "sideBar": true,
   "skip_h1_title": false,
   "title_cell": "Table of Contents",
   "title_sidebar": "Contents",
   "toc_cell": false,
   "toc_position": {},
   "toc_section_display": true,
   "toc_window_display": false
  },
  "varInspector": {
   "cols": {
    "lenName": 16,
    "lenType": 16,
    "lenVar": 40
   },
   "kernels_config": {
    "python": {
     "delete_cmd_postfix": "",
     "delete_cmd_prefix": "del ",
     "library": "var_list.py",
     "varRefreshCmd": "print(var_dic_list())"
    },
    "r": {
     "delete_cmd_postfix": ") ",
     "delete_cmd_prefix": "rm(",
     "library": "var_list.r",
     "varRefreshCmd": "cat(var_dic_list()) "
    }
   },
   "types_to_exclude": [
    "module",
    "function",
    "builtin_function_or_method",
    "instance",
    "_Feature"
   ],
   "window_display": false
  }
 },
 "nbformat": 4,
 "nbformat_minor": 1
}
