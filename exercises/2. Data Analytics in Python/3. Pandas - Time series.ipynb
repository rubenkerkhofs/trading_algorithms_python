{
 "cells": [
  {
   "cell_type": "code",
   "execution_count": null,
   "metadata": {
    "colab": {
     "base_uri": "https://localhost:8080/"
    },
    "executionInfo": {
     "elapsed": 15898,
     "status": "ok",
     "timestamp": 1608045085890,
     "user": {
      "displayName": "Thomas Nelen",
      "photoUrl": "",
      "userId": "09198946240301374422"
     },
     "user_tz": -60
    },
    "id": "pbiGhR7e8cix",
    "outputId": "7bdeabe1-3c38-4498-cb90-980350e10ee9",
    "scrolled": true
   },
   "outputs": [],
   "source": [
    "import pandas as pd\n",
    "import numpy as np\n",
    "from datetime import datetime\n",
    "import matplotlib.pyplot as plt"
   ]
  },
  {
   "cell_type": "markdown",
   "metadata": {
    "id": "5GIj-Z7l8ciz"
   },
   "source": [
    "## Obtain Data\n",
    "The stock price data will be obtained through Yahoo Finance throughout the course."
   ]
  },
  {
   "cell_type": "code",
   "execution_count": null,
   "metadata": {
    "scrolled": true
   },
   "outputs": [],
   "source": [
    "import yfinance as yf\n",
    "\n",
    "# Get the data for the stock AAPL\n",
    "ford = yf.download('F','2018-01-01', datetime.today(), progress=False)['Adj Close']\n",
    "ge = yf.download('GE','2016-01-01', datetime.today(), progress=False)['Adj Close']"
   ]
  },
  {
   "cell_type": "markdown",
   "metadata": {
    "id": "kS0LVW4T8ciz"
   },
   "source": [
    "Quick visualizations"
   ]
  },
  {
   "cell_type": "code",
   "execution_count": null,
   "metadata": {
    "scrolled": true
   },
   "outputs": [],
   "source": []
  },
  {
   "cell_type": "code",
   "execution_count": null,
   "metadata": {
    "scrolled": true
   },
   "outputs": [],
   "source": []
  },
  {
   "cell_type": "markdown",
   "metadata": {
    "id": "abznQGFC8ci1"
   },
   "source": [
    "## Merging series\n",
    "**Exercise 1**: Consolidate the Data of Ford and GE into one single DataFrame based on the date index."
   ]
  },
  {
   "cell_type": "code",
   "execution_count": null,
   "metadata": {
    "colab": {
     "base_uri": "https://localhost:8080/",
     "height": 235
    },
    "executionInfo": {
     "elapsed": 19993,
     "status": "ok",
     "timestamp": 1608045090004,
     "user": {
      "displayName": "Thomas Nelen",
      "photoUrl": "",
      "userId": "09198946240301374422"
     },
     "user_tz": -60
    },
    "id": "SeVNAp7s8ci1",
    "outputId": "ade7c342-489d-4715-c83a-80ee90ea3f24",
    "scrolled": true
   },
   "outputs": [],
   "source": []
  },
  {
   "cell_type": "code",
   "execution_count": null,
   "metadata": {
    "scrolled": true
   },
   "outputs": [],
   "source": []
  },
  {
   "cell_type": "markdown",
   "metadata": {
    "id": "r_xArac68ci2"
   },
   "source": [
    "**Exercise 2**: Remove all the entries where there are missing values"
   ]
  },
  {
   "cell_type": "code",
   "execution_count": null,
   "metadata": {
    "id": "UdirxByS8ci2",
    "scrolled": true
   },
   "outputs": [],
   "source": []
  },
  {
   "cell_type": "code",
   "execution_count": null,
   "metadata": {
    "scrolled": true
   },
   "outputs": [],
   "source": []
  },
  {
   "cell_type": "markdown",
   "metadata": {
    "id": "R8ZtlZZn8ci2"
   },
   "source": [
    "**Exercise**: What values do you have for Jan 8th, 2021 ?"
   ]
  },
  {
   "cell_type": "code",
   "execution_count": null,
   "metadata": {
    "colab": {
     "base_uri": "https://localhost:8080/"
    },
    "executionInfo": {
     "elapsed": 19990,
     "status": "ok",
     "timestamp": 1608045090006,
     "user": {
      "displayName": "Thomas Nelen",
      "photoUrl": "",
      "userId": "09198946240301374422"
     },
     "user_tz": -60
    },
    "id": "ZP8eDQDs8ci2",
    "outputId": "bbbed660-c3f2-4029-d09c-87dd9601e638",
    "scrolled": true
   },
   "outputs": [],
   "source": []
  },
  {
   "cell_type": "markdown",
   "metadata": {},
   "source": [
    "## Financial Analysis\n",
    "**Exercise**: calculate the difference between the return of GE and Ford"
   ]
  },
  {
   "cell_type": "code",
   "execution_count": null,
   "metadata": {
    "scrolled": true
   },
   "outputs": [],
   "source": []
  },
  {
   "cell_type": "markdown",
   "metadata": {
    "id": "ig6_cWgq8ci4"
   },
   "source": [
    "**Exercise**: obtain the log returns for both assets (log(1+x))"
   ]
  },
  {
   "cell_type": "code",
   "execution_count": null,
   "metadata": {
    "id": "qtJoYq8A8ci4",
    "scrolled": true
   },
   "outputs": [],
   "source": []
  },
  {
   "cell_type": "markdown",
   "metadata": {},
   "source": [
    "**Exercise**: compute the rolling window volatility (annualized) using a window size of 20"
   ]
  },
  {
   "cell_type": "code",
   "execution_count": null,
   "metadata": {
    "id": "iolpSrtu8ci5",
    "scrolled": true
   },
   "outputs": [],
   "source": []
  },
  {
   "cell_type": "code",
   "execution_count": null,
   "metadata": {
    "colab": {
     "base_uri": "https://localhost:8080/",
     "height": 356
    },
    "executionInfo": {
     "elapsed": 22751,
     "status": "ok",
     "timestamp": 1608045092804,
     "user": {
      "displayName": "Thomas Nelen",
      "photoUrl": "",
      "userId": "09198946240301374422"
     },
     "user_tz": -60
    },
    "id": "crNXx_lK8ci5",
    "outputId": "e85b1f93-6b45-4b7b-b63e-45eb5975087f",
    "scrolled": true
   },
   "outputs": [],
   "source": [
    "fig , ax = plt.subplots(1,1, figsize=(15,5))\n",
    "ax.plot(df_returns.index, df_returns['Ford_volatility']*100,\n",
    "        label='$\\sigma$ (F): '+ str(100*np.round(df_returns['Ford_volatility'].mean(),3))+ ' %')\n",
    "ax.plot(df_returns.index, df_returns['GE_volatility']*100,\n",
    "        label='$\\sigma$ (F): '+ str(100*np.round(df_returns['GE_volatility'].mean(),3))+ ' %')\n",
    "\n",
    "ax.set_title('30 Day Vol',fontsize=14)\n",
    "ax.legend(fontsize=14)\n",
    "ax.set_ylabel('Volatility %');"
   ]
  },
  {
   "cell_type": "markdown",
   "metadata": {
    "id": "XpncLhjI8ci5"
   },
   "source": [
    "**Exercise**: compute the rolling correlation (window size=100)"
   ]
  },
  {
   "cell_type": "code",
   "execution_count": null,
   "metadata": {
    "id": "n57wm9ww8ci5",
    "scrolled": true
   },
   "outputs": [],
   "source": [
    "df_returns.dropna(how='any',inplace=True)"
   ]
  },
  {
   "cell_type": "code",
   "execution_count": null,
   "metadata": {
    "id": "rIOGDd_I8ci6",
    "scrolled": true
   },
   "outputs": [],
   "source": []
  },
  {
   "cell_type": "code",
   "execution_count": null,
   "metadata": {
    "scrolled": true
   },
   "outputs": [],
   "source": []
  }
 ],
 "metadata": {
  "anaconda-cloud": {},
  "colab": {
   "collapsed_sections": [],
   "name": "GE Ford Example.ipynb",
   "provenance": []
  },
  "kernelspec": {
   "display_name": "Python 3 (ipykernel)",
   "language": "python",
   "name": "python3"
  },
  "language_info": {
   "codemirror_mode": {
    "name": "ipython",
    "version": 3
   },
   "file_extension": ".py",
   "mimetype": "text/x-python",
   "name": "python",
   "nbconvert_exporter": "python",
   "pygments_lexer": "ipython3",
   "version": "3.9.13"
  },
  "toc": {
   "base_numbering": 1,
   "nav_menu": {},
   "number_sections": true,
   "sideBar": true,
   "skip_h1_title": false,
   "title_cell": "Table of Contents",
   "title_sidebar": "Contents",
   "toc_cell": false,
   "toc_position": {},
   "toc_section_display": true,
   "toc_window_display": false
  },
  "varInspector": {
   "cols": {
    "lenName": 16,
    "lenType": 16,
    "lenVar": 40
   },
   "kernels_config": {
    "python": {
     "delete_cmd_postfix": "",
     "delete_cmd_prefix": "del ",
     "library": "var_list.py",
     "varRefreshCmd": "print(var_dic_list())"
    },
    "r": {
     "delete_cmd_postfix": ") ",
     "delete_cmd_prefix": "rm(",
     "library": "var_list.r",
     "varRefreshCmd": "cat(var_dic_list()) "
    }
   },
   "types_to_exclude": [
    "module",
    "function",
    "builtin_function_or_method",
    "instance",
    "_Feature"
   ],
   "window_display": false
  }
 },
 "nbformat": 4,
 "nbformat_minor": 1
}
