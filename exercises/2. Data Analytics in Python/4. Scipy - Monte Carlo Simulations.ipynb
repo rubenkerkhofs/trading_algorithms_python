{
 "cells": [
  {
   "cell_type": "markdown",
   "id": "6253f933",
   "metadata": {},
   "source": [
    "# Monte Carlo simulation\n",
    "We will create a python program to calculate the value of a call option using Monte Carlo simulations mostly using native python and an explicit for loop. Afterwards, the Numpy package will be used to implement a vectorized version."
   ]
  },
  {
   "cell_type": "code",
   "execution_count": 1,
   "id": "5e089711",
   "metadata": {},
   "outputs": [],
   "source": [
    "import math\n",
    "from random import random\n",
    "from random import seed\n",
    "from scipy.stats import norm\n",
    "import numpy as np"
   ]
  },
  {
   "cell_type": "code",
   "execution_count": 2,
   "id": "208bdaa5",
   "metadata": {},
   "outputs": [],
   "source": [
    "S0 = 100\n",
    "X = 100\n",
    "t = 0.25\n",
    "imkt = 0.05 # interest rate\n",
    "dmkt = 0.01 # dividend yield\n",
    "v = 0.30 # volatility\n",
    "n = 10**5 # number of iterations\n",
    "\n",
    "# Continuous compounding\n",
    "icc = math.log(1+imkt*t)/t\n",
    "dcc = math.log(1+dmkt*t)/t"
   ]
  },
  {
   "cell_type": "markdown",
   "id": "61f5f7cb",
   "metadata": {},
   "source": [
    "### Base python"
   ]
  },
  {
   "cell_type": "code",
   "execution_count": 7,
   "id": "e9a4481a",
   "metadata": {},
   "outputs": [
    {
     "name": "stdout",
     "output_type": "stream",
     "text": [
      "Call premium: 6.4502\n",
      "------\n",
      "CPU times: user 7.24 s, sys: 43.4 ms, total: 7.28 s\n",
      "Wall time: 7.27 s\n"
     ]
    }
   ],
   "source": [
    "%%time\n",
    "\n",
    "def sample_terminal_value(S0, icc, dcc, v, t):\n",
    "    z_sampled = norm.ppf(random())\n",
    "    return S0 * math.exp((icc-dcc-v**2/2)*t + v*z_sampled*math.sqrt(t))\n",
    "\n",
    "def payoff(terminal_value, strike):\n",
    "    return max(terminal_value - strike, 0)\n",
    "\n",
    "def option_value(payoff, interest, time):\n",
    "    return payoff * math.exp(-interest*time)\n",
    "\n",
    "\n",
    "values = []\n",
    "for simulation in range(n):\n",
    "    # Complete this section\n",
    "\n",
    "print('Call premium: {:.4f}'.format(np.mean(values)))\n",
    "print('------')"
   ]
  },
  {
   "cell_type": "markdown",
   "id": "7e1b8a17",
   "metadata": {},
   "source": [
    "## Vectorized function"
   ]
  },
  {
   "cell_type": "code",
   "execution_count": 6,
   "id": "2b29ff94",
   "metadata": {},
   "outputs": [
    {
     "name": "stdout",
     "output_type": "stream",
     "text": [
      "Call premium: 6.4026\n",
      "------\n",
      "CPU times: user 16.4 ms, sys: 3.58 ms, total: 20 ms\n",
      "Wall time: 15.6 ms\n"
     ]
    }
   ],
   "source": [
    "%%time\n",
    "\n",
    "# Implement a vectorized version\n",
    "print('Call premium: {:.4f}'.format(np.mean(C0)))\n",
    "print('------')"
   ]
  }
 ],
 "metadata": {
  "kernelspec": {
   "display_name": "Python 3 (ipykernel)",
   "language": "python",
   "name": "python3"
  },
  "language_info": {
   "codemirror_mode": {
    "name": "ipython",
    "version": 3
   },
   "file_extension": ".py",
   "mimetype": "text/x-python",
   "name": "python",
   "nbconvert_exporter": "python",
   "pygments_lexer": "ipython3",
   "version": "3.9.13"
  }
 },
 "nbformat": 4,
 "nbformat_minor": 5
}
