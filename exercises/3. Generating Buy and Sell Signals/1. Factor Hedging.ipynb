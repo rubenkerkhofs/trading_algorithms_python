{
 "cells": [
  {
   "cell_type": "markdown",
   "id": "1e5936f3",
   "metadata": {},
   "source": [
    "# Hedging against S&P500"
   ]
  },
  {
   "cell_type": "code",
   "execution_count": null,
   "id": "ff141b40",
   "metadata": {},
   "outputs": [],
   "source": [
    "from datetime import datetime\n",
    "import yfinance as yf\n",
    "import numpy as np\n",
    "import pandas as pd\n",
    "import matplotlib.pyplot as plt\n",
    "from sklearn.linear_model import HuberRegressor"
   ]
  },
  {
   "cell_type": "markdown",
   "id": "89f787c3",
   "metadata": {},
   "source": [
    "#### Factor Models\n",
    "Factor models are a way of explaining the portfolio returns via a linear combination of the returns of other assets, indicators or other factors. The general form of a factor model is\n",
    "\n",
    "$$ Y = \\alpha + \\beta_1 X_1 + \\beta_2 X_2 + ... + \\beta_n X_n $$\n",
    "\n",
    "The portfolio beta to another asset or indicator is simply the $\\beta$ in the above model. As a basic example, we will construct a portfolio that consists of only two companies: Apple [AAPL] (100 shares), and Ford [F] (500 shares)."
   ]
  },
  {
   "cell_type": "markdown",
   "id": "c813628d",
   "metadata": {},
   "source": [
    "## Step 1: Obtain historic price data\n",
    "Portfolio data"
   ]
  },
  {
   "cell_type": "code",
   "execution_count": null,
   "id": "a60c2795",
   "metadata": {},
   "outputs": [],
   "source": [
    "apple: pd.Series = yf.download('AAPL','2018-01-01',datetime.today(), progress=False)['Adj Close']\n",
    "ford: pd.Series = yf.download('F','2018-01-01',datetime.today(), progress=False)['Adj Close']\n",
    "    \n",
    "portfolio: pd.Series = 100*apple + 500*ford\n",
    "\n",
    "portfolio.plot();"
   ]
  },
  {
   "cell_type": "markdown",
   "id": "8a86b319",
   "metadata": {},
   "source": [
    "Index"
   ]
  },
  {
   "cell_type": "code",
   "execution_count": null,
   "id": "9fa04e87",
   "metadata": {},
   "outputs": [],
   "source": [
    "sp500: pd.Series = yf.download('^GSPC','2018-01-01',datetime.today(), progress=False)['Close']\n",
    "scaling_parameter: float = portfolio[0] / sp500[0]\n",
    "rescaled_index = sp500 * scaling_parameter\n",
    "    \n",
    "data = pd.DataFrame({'portfolio': portfolio, 'sp500': rescaled_index})\n",
    "data.plot();"
   ]
  },
  {
   "cell_type": "markdown",
   "id": "d4d2b19f",
   "metadata": {},
   "source": [
    "## Step 2: Transform historic prices to returns"
   ]
  },
  {
   "cell_type": "code",
   "execution_count": null,
   "id": "c21d37de",
   "metadata": {},
   "outputs": [],
   "source": []
  },
  {
   "cell_type": "markdown",
   "id": "f96741d0",
   "metadata": {},
   "source": [
    "## Step 3: Perform a linear regression\n",
    "The linear regression should be done with the portfolio returns as the target variable and the oil price returns as the explanatory variable. The intercept should be included in the regression. Make use of the [linear model](https://scikit-learn.org/stable/modules/generated/sklearn.linear_model.LinearRegression.html) from Sklearn."
   ]
  },
  {
   "cell_type": "code",
   "execution_count": null,
   "id": "61bcc0f9",
   "metadata": {},
   "outputs": [],
   "source": []
  },
  {
   "cell_type": "code",
   "execution_count": null,
   "id": "c9939af7",
   "metadata": {},
   "outputs": [],
   "source": [
    "print('Portfolio beta: ', round(regression.coef_[0], 4))\n",
    "print('Intercept: ', round(regression.intercept_, 4))\n",
    "\n",
    "# Getting the R squared is more complicated\n",
    "# -> SKlearn not made for statistical analysis\n",
    "yhat = regression.predict(X)\n",
    "SS_Residual = sum((y-yhat)**2)       \n",
    "SS_Total = sum((y-np.mean(y))**2)     \n",
    "r_squared = 1 - (float(SS_Residual))/SS_Total\n",
    "print('R-squared: ', round(r_squared, 4))"
   ]
  },
  {
   "cell_type": "markdown",
   "id": "e9e09a27",
   "metadata": {},
   "source": [
    "##### Extra: scatter plot with regression line"
   ]
  },
  {
   "cell_type": "code",
   "execution_count": null,
   "id": "c7fc630f",
   "metadata": {},
   "outputs": [],
   "source": [
    "plt.scatter(data['sp500'], data['portfolio'], s=0.5)\n",
    "m, b = np.polyfit(data['sp500'], data['portfolio'], 1)\n",
    "plt.plot(data['sp500'], m*data['sp500']+b);\n",
    "plt.title('Relationship between portfolio and oil_price')\n",
    "plt.xlabel('S&P 500 returns')\n",
    "plt.ylabel('Portfolio returns');"
   ]
  },
  {
   "cell_type": "markdown",
   "id": "e02096fd",
   "metadata": {},
   "source": [
    "## Step 4: Hedging\n",
    "More generally, this beta gets at the concept of how much risk exposure you take on by holding an asset. If an asset has a high beta exposure to the S&P 500, then while it will do very well while the market is rising, it will do very poorly when the market falls. A high beta corresponds to high speculative risk.\n",
    "\n",
    "Many institutional investors value strategies that have negligible beta exposure to as many factors as possible. What this means is that all of the returns in a strategy lie in the $\\alpha$ portion of the model, and are independent of other factors. This is highly desirable, as it means that the strategy is agnostic to market conditions. It will make money equally well in a crash as it will during a bull market.\n",
    "\n",
    "If we determine that our portfolio's returns are dependent on the market via this relation\n",
    "\n",
    "$$ Y_{portfolio} = \\alpha + \\beta X_{SP500} $$\n",
    "\n",
    "then we can take out a short position of $-\\beta$ times the market value of the portfolio in the S&P 500.\n",
    "\n",
    "The problem here is that the estimated beta is not necessarily constant over time. As such, the amount we short the S&P 500 may not perfectly hedge the portfolio which can make it difficult to reduce the beta to zero.\n",
    "\n",
    "#### Hedged portfolio"
   ]
  },
  {
   "cell_type": "code",
   "execution_count": null,
   "id": "f99d3ce3",
   "metadata": {},
   "outputs": [],
   "source": []
  },
  {
   "cell_type": "markdown",
   "id": "d091f89b",
   "metadata": {},
   "source": [
    "Compare the returns and volatility of the original portfolio:"
   ]
  },
  {
   "cell_type": "code",
   "execution_count": null,
   "id": "6bd935ae",
   "metadata": {},
   "outputs": [],
   "source": [
    "print('Return portfolio:        ', round(data.portfolio.mean(), 5))\n",
    "print('Return hedged portfolio: ', round(data.hedged_portfolio.mean(), 5))\n",
    "print('\\nVolatility portfolio:        ', round(data.portfolio.std(), 5))\n",
    "print('Volatility hedged portfolio: ', round(data.hedged_portfolio.std(), 5))"
   ]
  },
  {
   "cell_type": "markdown",
   "id": "d0971bf6",
   "metadata": {},
   "source": [
    "#### Stability of estimated hedge over time\n",
    "As mentioned above, the beta value does not remain constant as time progresses. In order to assess the stability of the beta estimate over time, we compute the value for beta in a rolling time window. **Assume that the beta is always estimated based on the previous 100 trading days.**"
   ]
  },
  {
   "cell_type": "code",
   "execution_count": null,
   "id": "4a246a90",
   "metadata": {},
   "outputs": [],
   "source": [
    "# Compact version using numpy_ext\n",
    "from numpy_ext import rolling_apply\n",
    "\n",
    "def get_beta(portfolio: np.array, sp500: np.array):\n",
    "    regression = HuberRegressor(fit_intercept=True)\n",
    "    y = portfolio\n",
    "    X = sp500.reshape(-1, 1)\n",
    "    regression.fit(\n",
    "        X = X,\n",
    "        y = y);\n",
    "    return regression.coef_[0]\n"
   ]
  },
  {
   "cell_type": "code",
   "execution_count": null,
   "id": "73ebb5fa",
   "metadata": {},
   "outputs": [],
   "source": [
    "# Using for loops (tip: if you are using a for loop combined with pandas, there is probably a more efficient method)\n",
    "days: int = 100\n",
    "regression = HuberRegressor(fit_intercept=True)\n",
    "for index, row in data.iterrows():\n",
    "    row_number: int = data.index.get_loc(index)\n",
    "    if row_number - days >= 0:\n",
    "        subset: pd.DataFrame = data.iloc[row_number-days:row_number]\n",
    "        y = subset.portfolio.values\n",
    "        X = subset.sp500.values.reshape(-1, 1)\n",
    "        regression.fit(\n",
    "            X = X,\n",
    "            y = y);\n",
    "        row['beta'] = regression.coef_[0]\n",
    "data.beta.plot();\n",
    "plt.title('Stability of beta hedge over time');\n",
    "plt.ylabel('Bèta');"
   ]
  },
  {
   "cell_type": "markdown",
   "id": "28097700",
   "metadata": {},
   "source": [
    "#### Getting the returns of the time-variant beta hedged portfolio"
   ]
  },
  {
   "cell_type": "code",
   "execution_count": null,
   "id": "0c29e343",
   "metadata": {},
   "outputs": [],
   "source": []
  },
  {
   "cell_type": "markdown",
   "id": "be860767",
   "metadata": {},
   "source": [
    "#### Calculating the final beta of the time-variant beta hedged portfolio"
   ]
  },
  {
   "cell_type": "code",
   "execution_count": null,
   "id": "211cb84d",
   "metadata": {},
   "outputs": [],
   "source": []
  },
  {
   "cell_type": "code",
   "execution_count": null,
   "id": "2da2a84e",
   "metadata": {},
   "outputs": [],
   "source": []
  }
 ],
 "metadata": {
  "kernelspec": {
   "display_name": "Python 3 (ipykernel)",
   "language": "python",
   "name": "python3"
  },
  "language_info": {
   "codemirror_mode": {
    "name": "ipython",
    "version": 3
   },
   "file_extension": ".py",
   "mimetype": "text/x-python",
   "name": "python",
   "nbconvert_exporter": "python",
   "pygments_lexer": "ipython3",
   "version": "3.9.13"
  }
 },
 "nbformat": 4,
 "nbformat_minor": 5
}
