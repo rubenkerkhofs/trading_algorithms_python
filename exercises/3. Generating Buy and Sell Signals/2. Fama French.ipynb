{
 "cells": [
  {
   "cell_type": "markdown",
   "id": "3c8d9ca9",
   "metadata": {},
   "source": [
    "# Fama-French 3-Factor Model\n",
    "Welcome to this notebook dedicated to exploring the Fama-French 3-Factor Model and its application in predicting expected returns. In this tutorial, we will dive into the world of asset pricing models and learn how to estimate the parameters of the Fama-French 3-Factor Model using Python. We will then leverage these estimated parameters to make predictions of the expected return for a specific firm.\n",
    "\n",
    "The Fama-French 3-Factor Model, developed by Eugene Fama and Kenneth French, is a widely used asset pricing model in finance. It extends the traditional Capital Asset Pricing Model (CAPM) by incorporating additional factors that capture market anomalies and asset characteristics.\n",
    "\n",
    "The three factors in the model are:\n",
    "\n",
    "1. Market Risk Premium: The excess return of the overall market compared to the risk-free rate.\n",
    "2. Size Factor: The excess return of small-cap stocks compared to large-cap stocks.\n",
    "3. Value Factor: The excess return of value stocks compared to growth stocks.\n",
    "\n",
    "By considering these three factors, the Fama-French 3-Factor Model aims to provide a more comprehensive explanation of asset returns. It enables us to assess whether an asset's return can be attributed to systematic risk, company size, or the value characteristics of the asset.\n",
    "\n",
    "In this notebook, we will walk through the steps of estimating the parameters of the Fama-French 3-Factor Model. We will start by gathering historical market and firm-specific data and constructing the necessary factor portfolios. Next, we will perform a regression analysis using Python to estimate the model parameters. Finally, we will utilize these estimated parameters to predict the expected return for a specific firm based on its exposure to the three factors."
   ]
  },
  {
   "cell_type": "code",
   "execution_count": 2,
   "id": "cc4f3eb9",
   "metadata": {},
   "outputs": [
    {
     "data": {
      "text/html": [
       "<div>\n",
       "<style scoped>\n",
       "    .dataframe tbody tr th:only-of-type {\n",
       "        vertical-align: middle;\n",
       "    }\n",
       "\n",
       "    .dataframe tbody tr th {\n",
       "        vertical-align: top;\n",
       "    }\n",
       "\n",
       "    .dataframe thead th {\n",
       "        text-align: right;\n",
       "    }\n",
       "</style>\n",
       "<table border=\"1\" class=\"dataframe\">\n",
       "  <thead>\n",
       "    <tr style=\"text-align: right;\">\n",
       "      <th></th>\n",
       "      <th>Mkt-RF</th>\n",
       "      <th>SMB</th>\n",
       "      <th>HML</th>\n",
       "      <th>RF</th>\n",
       "    </tr>\n",
       "    <tr>\n",
       "      <th>date</th>\n",
       "      <th></th>\n",
       "      <th></th>\n",
       "      <th></th>\n",
       "      <th></th>\n",
       "    </tr>\n",
       "  </thead>\n",
       "  <tbody>\n",
       "    <tr>\n",
       "      <th>1926-07-01</th>\n",
       "      <td>0.10</td>\n",
       "      <td>-0.25</td>\n",
       "      <td>-0.27</td>\n",
       "      <td>0.009</td>\n",
       "    </tr>\n",
       "    <tr>\n",
       "      <th>1926-07-02</th>\n",
       "      <td>0.45</td>\n",
       "      <td>-0.33</td>\n",
       "      <td>-0.06</td>\n",
       "      <td>0.009</td>\n",
       "    </tr>\n",
       "    <tr>\n",
       "      <th>1926-07-06</th>\n",
       "      <td>0.17</td>\n",
       "      <td>0.30</td>\n",
       "      <td>-0.39</td>\n",
       "      <td>0.009</td>\n",
       "    </tr>\n",
       "    <tr>\n",
       "      <th>1926-07-07</th>\n",
       "      <td>0.09</td>\n",
       "      <td>-0.58</td>\n",
       "      <td>0.02</td>\n",
       "      <td>0.009</td>\n",
       "    </tr>\n",
       "    <tr>\n",
       "      <th>1926-07-08</th>\n",
       "      <td>0.21</td>\n",
       "      <td>-0.38</td>\n",
       "      <td>0.19</td>\n",
       "      <td>0.009</td>\n",
       "    </tr>\n",
       "    <tr>\n",
       "      <th>...</th>\n",
       "      <td>...</td>\n",
       "      <td>...</td>\n",
       "      <td>...</td>\n",
       "      <td>...</td>\n",
       "    </tr>\n",
       "    <tr>\n",
       "      <th>2023-03-27</th>\n",
       "      <td>0.27</td>\n",
       "      <td>0.23</td>\n",
       "      <td>1.02</td>\n",
       "      <td>0.016</td>\n",
       "    </tr>\n",
       "    <tr>\n",
       "      <th>2023-03-28</th>\n",
       "      <td>-0.17</td>\n",
       "      <td>-0.17</td>\n",
       "      <td>0.74</td>\n",
       "      <td>0.016</td>\n",
       "    </tr>\n",
       "    <tr>\n",
       "      <th>2023-03-29</th>\n",
       "      <td>1.39</td>\n",
       "      <td>-0.28</td>\n",
       "      <td>-0.50</td>\n",
       "      <td>0.016</td>\n",
       "    </tr>\n",
       "    <tr>\n",
       "      <th>2023-03-30</th>\n",
       "      <td>0.51</td>\n",
       "      <td>-0.55</td>\n",
       "      <td>-0.59</td>\n",
       "      <td>0.016</td>\n",
       "    </tr>\n",
       "    <tr>\n",
       "      <th>2023-03-31</th>\n",
       "      <td>1.53</td>\n",
       "      <td>0.69</td>\n",
       "      <td>-0.77</td>\n",
       "      <td>0.016</td>\n",
       "    </tr>\n",
       "  </tbody>\n",
       "</table>\n",
       "<p>25461 rows × 4 columns</p>\n",
       "</div>"
      ],
      "text/plain": [
       "            Mkt-RF   SMB   HML     RF\n",
       "date                                 \n",
       "1926-07-01    0.10 -0.25 -0.27  0.009\n",
       "1926-07-02    0.45 -0.33 -0.06  0.009\n",
       "1926-07-06    0.17  0.30 -0.39  0.009\n",
       "1926-07-07    0.09 -0.58  0.02  0.009\n",
       "1926-07-08    0.21 -0.38  0.19  0.009\n",
       "...            ...   ...   ...    ...\n",
       "2023-03-27    0.27  0.23  1.02  0.016\n",
       "2023-03-28   -0.17 -0.17  0.74  0.016\n",
       "2023-03-29    1.39 -0.28 -0.50  0.016\n",
       "2023-03-30    0.51 -0.55 -0.59  0.016\n",
       "2023-03-31    1.53  0.69 -0.77  0.016\n",
       "\n",
       "[25461 rows x 4 columns]"
      ]
     },
     "execution_count": 2,
     "metadata": {},
     "output_type": "execute_result"
    }
   ],
   "source": [
    "import pandas as pd\n",
    "import yfinance as yf\n",
    "import numpy as np\n",
    "from datetime import datetime\n",
    "from sklearn.linear_model import LinearRegression\n",
    "\n",
    "fama_french = pd.read_csv('Data/fama_french.csv', sep=',').dropna()\n",
    "\n",
    "fama_french.dropna(inplace=True)\n",
    "fama_french.loc[:, 'date'] = fama_french['index'].apply(lambda x: pd.to_datetime(x))\n",
    "fama_french.drop(['index'], axis=1, inplace=True)\n",
    "fama_french.set_index('date', inplace=True, drop=True)\n",
    "fama_french"
   ]
  },
  {
   "cell_type": "markdown",
   "id": "b5ea3ee9",
   "metadata": {},
   "source": [
    "##### Ford"
   ]
  },
  {
   "cell_type": "code",
   "execution_count": 3,
   "id": "68c2c55e",
   "metadata": {},
   "outputs": [],
   "source": [
    "ford = yf.download('F','2018-01-01',datetime.today(), progress=False)['Adj Close'].pct_change()"
   ]
  },
  {
   "cell_type": "code",
   "execution_count": 4,
   "id": "a3e890ec",
   "metadata": {},
   "outputs": [
    {
     "data": {
      "text/html": [
       "<div>\n",
       "<style scoped>\n",
       "    .dataframe tbody tr th:only-of-type {\n",
       "        vertical-align: middle;\n",
       "    }\n",
       "\n",
       "    .dataframe tbody tr th {\n",
       "        vertical-align: top;\n",
       "    }\n",
       "\n",
       "    .dataframe thead th {\n",
       "        text-align: right;\n",
       "    }\n",
       "</style>\n",
       "<table border=\"1\" class=\"dataframe\">\n",
       "  <thead>\n",
       "    <tr style=\"text-align: right;\">\n",
       "      <th></th>\n",
       "      <th>Mkt-RF</th>\n",
       "      <th>SMB</th>\n",
       "      <th>HML</th>\n",
       "      <th>RF</th>\n",
       "      <th>ford</th>\n",
       "    </tr>\n",
       "  </thead>\n",
       "  <tbody>\n",
       "    <tr>\n",
       "      <th>2018-01-03</th>\n",
       "      <td>0.59</td>\n",
       "      <td>-0.39</td>\n",
       "      <td>-0.19</td>\n",
       "      <td>0.006</td>\n",
       "      <td>0.007899</td>\n",
       "    </tr>\n",
       "    <tr>\n",
       "      <th>2018-01-04</th>\n",
       "      <td>0.42</td>\n",
       "      <td>-0.26</td>\n",
       "      <td>0.25</td>\n",
       "      <td>0.006</td>\n",
       "      <td>0.017241</td>\n",
       "    </tr>\n",
       "    <tr>\n",
       "      <th>2018-01-05</th>\n",
       "      <td>0.66</td>\n",
       "      <td>-0.35</td>\n",
       "      <td>-0.25</td>\n",
       "      <td>0.006</td>\n",
       "      <td>0.016949</td>\n",
       "    </tr>\n",
       "    <tr>\n",
       "      <th>2018-01-08</th>\n",
       "      <td>0.19</td>\n",
       "      <td>-0.15</td>\n",
       "      <td>0.04</td>\n",
       "      <td>0.006</td>\n",
       "      <td>-0.003788</td>\n",
       "    </tr>\n",
       "    <tr>\n",
       "      <th>2018-01-09</th>\n",
       "      <td>0.15</td>\n",
       "      <td>-0.35</td>\n",
       "      <td>-0.04</td>\n",
       "      <td>0.006</td>\n",
       "      <td>-0.005323</td>\n",
       "    </tr>\n",
       "    <tr>\n",
       "      <th>...</th>\n",
       "      <td>...</td>\n",
       "      <td>...</td>\n",
       "      <td>...</td>\n",
       "      <td>...</td>\n",
       "      <td>...</td>\n",
       "    </tr>\n",
       "    <tr>\n",
       "      <th>2023-03-27</th>\n",
       "      <td>0.27</td>\n",
       "      <td>0.23</td>\n",
       "      <td>1.02</td>\n",
       "      <td>0.016</td>\n",
       "      <td>0.000869</td>\n",
       "    </tr>\n",
       "    <tr>\n",
       "      <th>2023-03-28</th>\n",
       "      <td>-0.17</td>\n",
       "      <td>-0.17</td>\n",
       "      <td>0.74</td>\n",
       "      <td>0.016</td>\n",
       "      <td>0.006944</td>\n",
       "    </tr>\n",
       "    <tr>\n",
       "      <th>2023-03-29</th>\n",
       "      <td>1.39</td>\n",
       "      <td>-0.28</td>\n",
       "      <td>-0.50</td>\n",
       "      <td>0.016</td>\n",
       "      <td>0.038793</td>\n",
       "    </tr>\n",
       "    <tr>\n",
       "      <th>2023-03-30</th>\n",
       "      <td>0.51</td>\n",
       "      <td>-0.55</td>\n",
       "      <td>-0.59</td>\n",
       "      <td>0.016</td>\n",
       "      <td>0.019917</td>\n",
       "    </tr>\n",
       "    <tr>\n",
       "      <th>2023-03-31</th>\n",
       "      <td>1.53</td>\n",
       "      <td>0.69</td>\n",
       "      <td>-0.77</td>\n",
       "      <td>0.016</td>\n",
       "      <td>0.025224</td>\n",
       "    </tr>\n",
       "  </tbody>\n",
       "</table>\n",
       "<p>1320 rows × 5 columns</p>\n",
       "</div>"
      ],
      "text/plain": [
       "            Mkt-RF   SMB   HML     RF      ford\n",
       "2018-01-03    0.59 -0.39 -0.19  0.006  0.007899\n",
       "2018-01-04    0.42 -0.26  0.25  0.006  0.017241\n",
       "2018-01-05    0.66 -0.35 -0.25  0.006  0.016949\n",
       "2018-01-08    0.19 -0.15  0.04  0.006 -0.003788\n",
       "2018-01-09    0.15 -0.35 -0.04  0.006 -0.005323\n",
       "...            ...   ...   ...    ...       ...\n",
       "2023-03-27    0.27  0.23  1.02  0.016  0.000869\n",
       "2023-03-28   -0.17 -0.17  0.74  0.016  0.006944\n",
       "2023-03-29    1.39 -0.28 -0.50  0.016  0.038793\n",
       "2023-03-30    0.51 -0.55 -0.59  0.016  0.019917\n",
       "2023-03-31    1.53  0.69 -0.77  0.016  0.025224\n",
       "\n",
       "[1320 rows x 5 columns]"
      ]
     },
     "execution_count": 4,
     "metadata": {},
     "output_type": "execute_result"
    }
   ],
   "source": [
    "data = pd.concat([fama_french, ford.rename('ford')], axis=1).dropna()\n",
    "data"
   ]
  },
  {
   "cell_type": "markdown",
   "id": "8d4bacf9",
   "metadata": {},
   "source": [
    "### Parameter estimation\n",
    "The parameters of the fama-French 3-Factor model can easily be estimated using a linear regression model:"
   ]
  },
  {
   "cell_type": "code",
   "execution_count": 8,
   "id": "ed67ed67",
   "metadata": {},
   "outputs": [
    {
     "data": {
      "text/plain": [
       "LinearRegression()"
      ]
     },
     "execution_count": 8,
     "metadata": {},
     "output_type": "execute_result"
    }
   ],
   "source": [
    "regression = LinearRegression(fit_intercept=True)\n",
    "y = data['ford'] - data['RF']\n",
    "X = data[['Mkt-RF', 'SMB', 'HML']]\n",
    "regression.fit(X, y)"
   ]
  },
  {
   "cell_type": "code",
   "execution_count": 9,
   "id": "91fa14d9",
   "metadata": {},
   "outputs": [
    {
     "name": "stdout",
     "output_type": "stream",
     "text": [
      "coefficient Mkt-RF: 0.0115\n",
      "coefficient SMB: 0.0059\n",
      "coefficient HML: 0.0069\n",
      "Intercept:  -0.005\n"
     ]
    }
   ],
   "source": [
    "# Coefficients:\n",
    "for i, col in enumerate(['Mkt-RF', 'SMB', 'HML']):\n",
    "    print('coefficient {c}: {n}'.format(c=col, n=round(regression.coef_[i], 4)))\n",
    "print('Intercept: ', round(regression.intercept_, 4))"
   ]
  },
  {
   "cell_type": "markdown",
   "id": "a6cbc5e4",
   "metadata": {},
   "source": [
    "## Expected return"
   ]
  },
  {
   "cell_type": "code",
   "execution_count": 11,
   "id": "25af4cf3",
   "metadata": {},
   "outputs": [
    {
     "name": "stdout",
     "output_type": "stream",
     "text": [
      "0.037018999999999996\n"
     ]
    }
   ],
   "source": [
    "m = 2\n",
    "smb = 0.5\n",
    "hml = 0.01\n",
    "expected_return = -0.005 + 0.0115*m + 0.0059*smb + 0.0069*hml\n",
    "print(expected_return + 0.016)"
   ]
  }
 ],
 "metadata": {
  "kernelspec": {
   "display_name": "Python 3 (ipykernel)",
   "language": "python",
   "name": "python3"
  },
  "language_info": {
   "codemirror_mode": {
    "name": "ipython",
    "version": 3
   },
   "file_extension": ".py",
   "mimetype": "text/x-python",
   "name": "python",
   "nbconvert_exporter": "python",
   "pygments_lexer": "ipython3",
   "version": "3.9.16"
  }
 },
 "nbformat": 4,
 "nbformat_minor": 5
}
