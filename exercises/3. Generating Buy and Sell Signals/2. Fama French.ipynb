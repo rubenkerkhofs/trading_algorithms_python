{
 "cells": [
  {
   "cell_type": "markdown",
   "id": "3c8d9ca9",
   "metadata": {},
   "source": [
    "# Fama-French 3-Factor Model\n",
    "Welcome to this notebook dedicated to exploring the Fama-French 3-Factor Model and its application in predicting expected returns. In this tutorial, we will dive into the world of asset pricing models and learn how to estimate the parameters of the Fama-French 3-Factor Model using Python. We will then leverage these estimated parameters to make predictions of the expected return for a specific firm.\n",
    "\n",
    "The Fama-French 3-Factor Model, developed by Eugene Fama and Kenneth French, is a widely used asset pricing model in finance. It extends the traditional Capital Asset Pricing Model (CAPM) by incorporating additional factors that capture market anomalies and asset characteristics.\n",
    "\n",
    "The three factors in the model are:\n",
    "\n",
    "1. Market Risk Premium: The excess return of the overall market compared to the risk-free rate.\n",
    "2. Size Factor: The excess return of small-cap stocks compared to large-cap stocks.\n",
    "3. Value Factor: The excess return of value stocks compared to growth stocks.\n",
    "\n",
    "By considering these three factors, the Fama-French 3-Factor Model aims to provide a more comprehensive explanation of asset returns. It enables us to assess whether an asset's return can be attributed to systematic risk, company size, or the value characteristics of the asset.\n",
    "\n",
    "In this notebook, we will walk through the steps of estimating the parameters of the Fama-French 3-Factor Model. We will start by gathering historical market and firm-specific data and constructing the necessary factor portfolios. Next, we will perform a regression analysis using Python to estimate the model parameters. Finally, we will utilize these estimated parameters to predict the expected return for a specific firm based on its exposure to the three factors."
   ]
  },
  {
   "cell_type": "code",
   "execution_count": null,
   "id": "cc4f3eb9",
   "metadata": {},
   "outputs": [],
   "source": [
    "import pandas as pd\n",
    "import yfinance as yf\n",
    "import numpy as np\n",
    "from datetime import datetime\n",
    "from sklearn.linear_model import LinearRegression\n",
    "\n",
    "fama_french = pd.read_csv('Data/fama_french.csv', sep=',').dropna()\n",
    "\n",
    "fama_french.dropna(inplace=True)\n",
    "fama_french.loc[:, 'date'] = fama_french['index'].apply(lambda x: pd.to_datetime(x))\n",
    "fama_french.drop(['index'], axis=1, inplace=True)\n",
    "fama_french.set_index('date', inplace=True, drop=True)\n",
    "fama_french.tail()"
   ]
  },
  {
   "cell_type": "markdown",
   "id": "b5ea3ee9",
   "metadata": {},
   "source": [
    "##### Ford"
   ]
  },
  {
   "cell_type": "code",
   "execution_count": null,
   "id": "68c2c55e",
   "metadata": {},
   "outputs": [],
   "source": [
    "ford = yf.download('F','2018-01-01',datetime.today(), progress=False)['Adj Close'].pct_change()"
   ]
  },
  {
   "cell_type": "code",
   "execution_count": null,
   "id": "a3e890ec",
   "metadata": {},
   "outputs": [],
   "source": [
    "data = pd.concat([fama_french, ford.rename('ford')], axis=1).dropna()\n",
    "data"
   ]
  },
  {
   "cell_type": "markdown",
   "id": "8d4bacf9",
   "metadata": {},
   "source": [
    "### Parameter estimation\n",
    "The parameters of the fama-French 3-Factor model can easily be estimated using a linear regression model:"
   ]
  },
  {
   "cell_type": "code",
   "execution_count": null,
   "id": "ed67ed67",
   "metadata": {},
   "outputs": [],
   "source": []
  },
  {
   "cell_type": "code",
   "execution_count": null,
   "id": "91fa14d9",
   "metadata": {},
   "outputs": [],
   "source": [
    "# Coefficients:\n",
    "for i, col in enumerate(['Mkt-RF', 'SMB', 'HML']):\n",
    "    print('coefficient {c}: {n}'.format(c=col, n=round(regression.coef_[i], 4)))\n",
    "print('Intercept: ', round(regression.intercept_, 4))"
   ]
  },
  {
   "cell_type": "markdown",
   "id": "a6cbc5e4",
   "metadata": {},
   "source": [
    "## Expected return"
   ]
  },
  {
   "cell_type": "code",
   "execution_count": null,
   "id": "25af4cf3",
   "metadata": {},
   "outputs": [],
   "source": []
  }
 ],
 "metadata": {
  "kernelspec": {
   "display_name": "Python 3 (ipykernel)",
   "language": "python",
   "name": "python3"
  },
  "language_info": {
   "codemirror_mode": {
    "name": "ipython",
    "version": 3
   },
   "file_extension": ".py",
   "mimetype": "text/x-python",
   "name": "python",
   "nbconvert_exporter": "python",
   "pygments_lexer": "ipython3",
   "version": "3.9.13"
  }
 },
 "nbformat": 4,
 "nbformat_minor": 5
}
