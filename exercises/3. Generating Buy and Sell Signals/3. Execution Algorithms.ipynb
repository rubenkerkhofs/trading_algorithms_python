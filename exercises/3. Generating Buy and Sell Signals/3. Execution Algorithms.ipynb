{
 "cells": [
  {
   "cell_type": "markdown",
   "id": "19810541",
   "metadata": {},
   "source": [
    "# Execution Algorithms\n",
    "Depending on the size of a trade being made, the trade itself can have an impact on the market. Indeed, when a firm buys a large amount of shares it can drive up the stock's price, just like selling a large number of shares can negatively impact the share price. To manage the problem of slippage, traders can use execution algorithms to split a large trade into multiple smaller trades which are executed over a certain time interval."
   ]
  },
  {
   "cell_type": "markdown",
   "id": "87a1ec22",
   "metadata": {},
   "source": [
    "### TWAP vs VWAP\n",
    "These algorithms are commonly used in trading to execute large orders in a controlled and efficient manner. Let's explore each of them in more detail:\n",
    "\n",
    "\n",
    "#### TWAP (Time-Weighted Average Price)\n",
    "\n",
    "\n",
    "TWAP is an execution algorithm that aims to achieve an average execution price that closely matches the average market price over a specified time period. The execution of the order is evenly spread out over this period, regardless of market conditions. This algorithm is particularly useful when the goal is to minimize the market impact of large orders by executing them gradually. The TWAP algorithm calculates the target order quantity to be executed in equal increments at regular time intervals. By dividing the order into smaller chunks and executing them at predetermined time intervals, TWAP aims to minimize price fluctuations caused by large order executions. It is important to note that TWAP execution does not take into account the volume traded at different time intervals."
   ]
  },
  {
   "cell_type": "code",
   "execution_count": 1,
   "id": "eba574f4",
   "metadata": {},
   "outputs": [
    {
     "name": "stdout",
     "output_type": "stream",
     "text": [
      "Order request received: 2023-05-31 17:28:42.041428\n",
      "----\n",
      "Order submitted for 2000.0 shares at time 2023-05-31 17:28:44.041433\n",
      "Order submitted for 2000.0 shares at time 2023-05-31 17:28:46.041431\n",
      "Order submitted for 2000.0 shares at time 2023-05-31 17:28:48.041431\n",
      "Order submitted for 2000.0 shares at time 2023-05-31 17:28:50.041432\n",
      "Order submitted for 2000.0 shares at time 2023-05-31 17:28:52.041431\n",
      "----\n",
      "Order complete\n"
     ]
    }
   ],
   "source": [
    "from datetime import datetime, timedelta\n",
    "\n",
    "def twap_execution(order, intervals: int, total_time: int):\n",
    "    \"\"\"\n",
    "    Executes an order using the TWAP algorithm.\n",
    "    \n",
    "    Parameters:\n",
    "        - order: Total order quantity to be executed (number of shares)\n",
    "        - intervals: The number of intervals to be used\n",
    "        - total_time: The total time for the order to be processed (in seconds)\n",
    "    \"\"\"\n",
    "    #Implement method\n",
    "    start_time = datetime.now()\n",
    "    print('Order request received: {}'.format(start_time))\n",
    "    print('----')\n",
    "    interval_size = total_time / intervals\n",
    "    order_size = order / intervals\n",
    "    \n",
    "    total_ordered = 0\n",
    "    next_interval = start_time + timedelta(seconds=interval_size)\n",
    "    while total_ordered < order:\n",
    "        if datetime.now() >= next_interval:\n",
    "            print('Order submitted for {n} shares at time {t}'.format(n=order_size, t=datetime.now()))\n",
    "            total_ordered = total_ordered + order_size\n",
    "            next_interval = next_interval + timedelta(seconds=interval_size)\n",
    "            \n",
    "    print('----')\n",
    "    print('Order complete')\n",
    "            \n",
    "    \n",
    "    \n",
    "twap_execution(10000, 5, 10)"
   ]
  },
  {
   "cell_type": "markdown",
   "id": "1c12bb26",
   "metadata": {},
   "source": [
    "#### VWAP (Volume-Weighted Average Price)\n",
    "\n",
    "\n",
    "VWAP is an execution algorithm that aims to achieve an average execution price that closely matches the volume-weighted average price of a security over a specified time period. The execution of the order is based on the volume traded at different price levels. VWAP execution is commonly used by institutional investors and traders who seek to execute large orders while minimizing the impact on the market. The VWAP algorithm calculates the target order quantity to be executed based on the proportion of the total traded volume at different price levels. This ensures that the execution is weighted according to the market activity. VWAP execution aims to achieve a price close to the average price at which the security has been traded throughout the day.\n",
    "\n",
    "\n",
    "\n",
    "Both TWAP and VWAP algorithms provide systematic and controlled execution strategies for large orders. They help traders avoid excessive market impact by executing the orders gradually and in line with the prevailing market conditions. The choice between TWAP and VWAP depends on the specific requirements and objectives of the trader or investor.\n",
    "\n",
    "It's worth noting that these algorithms are just a few examples of execution strategies, and there are other algorithms available, each with its own characteristics and benefits. Traders and investors often consider factors such as liquidity, market conditions, order size, and desired execution objectives when selecting the most appropriate algorithm for their trading needs."
   ]
  },
  {
   "cell_type": "code",
   "execution_count": 2,
   "id": "2101b42d",
   "metadata": {},
   "outputs": [
    {
     "data": {
      "text/plain": [
       "2023-05-31 17:28:54.686591    1442.590278\n",
       "2023-05-31 17:28:56.686591    2067.055556\n",
       "2023-05-31 17:28:58.686591    2602.652778\n",
       "2023-05-31 17:29:00.686591    3202.909722\n",
       "2023-05-31 17:29:02.686591    2349.187500\n",
       "Name: Volume, dtype: float64"
      ]
     },
     "execution_count": 2,
     "metadata": {},
     "output_type": "execute_result"
    }
   ],
   "source": [
    "import yfinance as yf\n",
    "\n",
    "volumes = yf.download('F','2018-01-01',datetime.today(), progress=False)['Volume']\n",
    "\n",
    "current = datetime.now()\n",
    "volume_indices = []\n",
    "for volume in volumes:\n",
    "    current += timedelta(seconds=2)\n",
    "    volume_indices.append(current)\n",
    "volumes.index = volume_indices\n",
    "volumes /= (8*60*30)\n",
    "volumes.head()"
   ]
  },
  {
   "cell_type": "code",
   "execution_count": 12,
   "id": "a790ef89",
   "metadata": {},
   "outputs": [
    {
     "name": "stdout",
     "output_type": "stream",
     "text": [
      "Order request received: 2023-05-31 17:35:12.694055\n",
      "Order submitted for 2091.0354211922386 shares at time 2023-05-31 17:35:14.686637\n",
      "Order submitted for 1729.3528311829223 shares at time 2023-05-31 17:35:16.686630\n",
      "Order submitted for 1643.2000249022253 shares at time 2023-05-31 17:35:18.686628\n",
      "Order submitted for 1941.3819401057008 shares at time 2023-05-31 17:35:20.686630\n",
      "Order submitted for 2595.0297826169126 shares at time 2023-05-31 17:35:22.686631\n",
      "-----\n",
      "Order compelte\n"
     ]
    }
   ],
   "source": [
    "def vwap_execution(order, total_time: int, volumes):\n",
    "    \"\"\"\n",
    "    Executes an order using the TWAP algorithm.\n",
    "    \n",
    "    Parameters:\n",
    "        - order: Total order quantity to be executed\n",
    "        - volumes\n",
    "    \"\"\"\n",
    "    #Implement method\n",
    "    start_time = datetime.now()\n",
    "    print('Order request received: {}'.format(start_time))\n",
    "    completion_time = start_time + timedelta(seconds = total_time)\n",
    "    volumes = volumes[volumes.index <= completion_time]\n",
    "    volumes = volumes[volumes.index >= start_time]\n",
    "    total_volume = sum(volumes)\n",
    "    total_ordered = 0\n",
    "    while total_ordered < order:\n",
    "        if datetime.now() >= volumes.index[0]:\n",
    "            order_size = order*(volumes[0]/total_volume)\n",
    "            print('Order submitted for {n} shares at time {t}'.format(n = order_size, t=datetime.now()))\n",
    "            total_ordered = total_ordered + order_size\n",
    "            volumes = volumes[volumes.index > datetime.now()]\n",
    "    print('-----')\n",
    "    print('Order complete')\n",
    "    \n",
    "    \n",
    "vwap_execution(10000, 10, volumes)"
   ]
  },
  {
   "cell_type": "code",
   "execution_count": 14,
   "id": "81492255",
   "metadata": {},
   "outputs": [
    {
     "name": "stdout",
     "output_type": "stream",
     "text": [
      "Order request received: 2023-05-31 17:43:18.579561\n",
      "Order submitted for 260.35625 shares at time 2023-05-31 17:43:18.686626\n",
      "Order submitted for 153.1326388888889 shares at time 2023-05-31 17:43:20.686628\n",
      "Order submitted for 229.8090277777778 shares at time 2023-05-31 17:43:22.686634\n",
      "Order submitted for 142.4326388888889 shares at time 2023-05-31 17:43:24.686631\n",
      "Order submitted for 184.41875000000002 shares at time 2023-05-31 17:43:26.686625\n",
      "Order submitted for 225.41319444444446 shares at time 2023-05-31 17:43:28.686629\n",
      "Order submitted for 149.375 shares at time 2023-05-31 17:43:30.686634\n",
      "Order submitted for 274.71875 shares at time 2023-05-31 17:43:32.686628\n",
      "Order submitted for 473.17361111111114 shares at time 2023-05-31 17:43:34.686624\n",
      "Order submitted for 283.52708333333334 shares at time 2023-05-31 17:43:36.686633\n",
      "Order submitted for 193.24583333333334 shares at time 2023-05-31 17:43:38.686628\n",
      "Order submitted for 203.7527777777778 shares at time 2023-05-31 17:43:40.686626\n",
      "Order submitted for 215.91111111111115 shares at time 2023-05-31 17:43:42.686635\n",
      "Order submitted for 117.35069444444444 shares at time 2023-05-31 17:43:44.686624\n",
      "Order submitted for 194.9277777777778 shares at time 2023-05-31 17:43:46.686628\n",
      "Order submitted for 237.33125 shares at time 2023-05-31 17:43:48.686632\n",
      "Order submitted for 172.1840277777778 shares at time 2023-05-31 17:43:50.686623\n",
      "Order submitted for 206.74791666666667 shares at time 2023-05-31 17:43:52.686627\n",
      "Order submitted for 188.8215277777778 shares at time 2023-05-31 17:43:54.686643\n",
      "Order submitted for 196.95277777777778 shares at time 2023-05-31 17:43:56.686628\n",
      "Order submitted for 294.60347222222225 shares at time 2023-05-31 17:43:58.686623\n",
      "Order submitted for 233.40416666666667 shares at time 2023-05-31 17:44:00.686631\n",
      "Order submitted for 249.15625 shares at time 2023-05-31 17:44:02.686630\n",
      "Order submitted for 310.90555555555557 shares at time 2023-05-31 17:44:04.686626\n",
      "Order submitted for 836.0777777777778 shares at time 2023-05-31 17:44:06.686628\n",
      "Order submitted for 356.7611111111112 shares at time 2023-05-31 17:44:08.686627\n",
      "Order submitted for 275.2451388888889 shares at time 2023-05-31 17:44:10.686623\n",
      "Order submitted for 255.35972222222222 shares at time 2023-05-31 17:44:12.686628\n",
      "Order submitted for 199.20347222222222 shares at time 2023-05-31 17:44:14.686658\n",
      "Order submitted for 202.25069444444443 shares at time 2023-05-31 17:44:16.686626\n",
      "Order submitted for 384.4090277777778 shares at time 2023-05-31 17:44:18.686629\n",
      "Order submitted for 324.4201388888889 shares at time 2023-05-31 17:44:20.686626\n",
      "Order submitted for 260.90069444444447 shares at time 2023-05-31 17:44:22.686628\n",
      "Order submitted for 274.2895833333334 shares at time 2023-05-31 17:44:24.686624\n",
      "Order submitted for 226.66944444444445 shares at time 2023-05-31 17:44:26.686632\n",
      "Order submitted for 204.70000000000002 shares at time 2023-05-31 17:44:28.686631\n",
      "Order submitted for 172.54583333333335 shares at time 2023-05-31 17:44:30.686627\n",
      "Order submitted for 199.3326388888889 shares at time 2023-05-31 17:44:32.686623\n",
      "Order submitted for 239.52222222222224 shares at time 2023-05-31 17:44:34.686629\n",
      "Order submitted for 184.22083333333333 shares at time 2023-05-31 17:44:36.686625\n",
      "Order submitted for 12.439583333334667 shares at time 2023-05-31 17:44:38.686626\n",
      "-----\n",
      "Order complete\n"
     ]
    }
   ],
   "source": [
    "def pov_execution(order, volumes, participation=0.1):\n",
    "    \"\"\"\n",
    "    \"\"\"\n",
    "    #Implement method\n",
    "    start_time = datetime.now()\n",
    "    print('Order request received: {}'.format(start_time))\n",
    "    volumes = volumes[volumes.index >= start_time]\n",
    "    total_ordered = 0\n",
    "    while total_ordered < order:\n",
    "        if datetime.now() >= volumes.index[0]:\n",
    "            order_size = min(volumes[0]*participation, order-total_ordered)\n",
    "            print('Order submitted for {n} shares at time {t}'.format(n = order_size, t=datetime.now()))\n",
    "            total_ordered = total_ordered + order_size\n",
    "            volumes = volumes[volumes.index > datetime.now()]\n",
    "    print('-----')\n",
    "    print('Order complete')\n",
    "    \n",
    "    \n",
    "pov_execution(10000, volumes)"
   ]
  },
  {
   "cell_type": "code",
   "execution_count": null,
   "id": "b8be5be2",
   "metadata": {},
   "outputs": [],
   "source": []
  }
 ],
 "metadata": {
  "kernelspec": {
   "display_name": "Python 3 (ipykernel)",
   "language": "python",
   "name": "python3"
  },
  "language_info": {
   "codemirror_mode": {
    "name": "ipython",
    "version": 3
   },
   "file_extension": ".py",
   "mimetype": "text/x-python",
   "name": "python",
   "nbconvert_exporter": "python",
   "pygments_lexer": "ipython3",
   "version": "3.9.16"
  }
 },
 "nbformat": 4,
 "nbformat_minor": 5
}
