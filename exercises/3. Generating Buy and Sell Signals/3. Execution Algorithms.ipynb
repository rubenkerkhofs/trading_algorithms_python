{
 "cells": [
  {
   "cell_type": "markdown",
   "id": "19810541",
   "metadata": {},
   "source": [
    "# Execution Algorithms\n",
    "Depending on the size of a trade being made, the trade itself can have an impact on the market. Indeed, when a firm buys a large amount of shares it can drive up the stock's price, just like selling a large number of shares can negatively impact the share price. To manage the problem of slippage, traders can use execution algorithms to split a large trade into multiple smaller trades which are executed over a certain time interval."
   ]
  },
  {
   "cell_type": "markdown",
   "id": "87a1ec22",
   "metadata": {},
   "source": [
    "### TWAP vs VWAP\n",
    "These algorithms are commonly used in trading to execute large orders in a controlled and efficient manner. Let's explore each of them in more detail:\n",
    "\n",
    "\n",
    "#### TWAP (Time-Weighted Average Price)\n",
    "\n",
    "\n",
    "TWAP is an execution algorithm that aims to achieve an average execution price that closely matches the average market price over a specified time period. The execution of the order is evenly spread out over this period, regardless of market conditions. This algorithm is particularly useful when the goal is to minimize the market impact of large orders by executing them gradually. The TWAP algorithm calculates the target order quantity to be executed in equal increments at regular time intervals. By dividing the order into smaller chunks and executing them at predetermined time intervals, TWAP aims to minimize price fluctuations caused by large order executions. It is important to note that TWAP execution does not take into account the volume traded at different time intervals."
   ]
  },
  {
   "cell_type": "code",
   "execution_count": 1,
   "id": "eba574f4",
   "metadata": {},
   "outputs": [
    {
     "name": "stdout",
     "output_type": "stream",
     "text": [
      "Order request received:           2023-05-29 19:00:07.767041\n",
      "Expected order completion time:   2023-05-29 19:00:27.767041\n",
      "----\n",
      "Order submitted for 2000.0 at time 2023-05-29 19:00:11.767058\n",
      "Order submitted for 2000.0 at time 2023-05-29 19:00:15.767045\n",
      "Order submitted for 2000.0 at time 2023-05-29 19:00:19.767046\n",
      "Order submitted for 2000.0 at time 2023-05-29 19:00:23.767066\n",
      "Order submitted for 2000.0 at time 2023-05-29 19:00:27.767055\n",
      "----\n",
      "Order completed: 2023-05-29 19:00:27.767217\n"
     ]
    }
   ],
   "source": [
    "from datetime import datetime, timedelta\n",
    "\n",
    "def twap_execution(order, intervals: int, total_time: int):\n",
    "    \"\"\"\n",
    "    Executes an order using the TWAP algorithm.\n",
    "    \n",
    "    Parameters:\n",
    "        - order: Total order quantity to be executed\n",
    "        - intervals: The number of intervals to be used\n",
    "        - total_time: The total time for the order to be processed (in seconds)\n",
    "    \"\"\"\n",
    "    #Implement method\n",
    "    \n",
    "twap_execution(10000, 5, 20)"
   ]
  },
  {
   "cell_type": "markdown",
   "id": "1c12bb26",
   "metadata": {},
   "source": [
    "#### VWAP (Volume-Weighted Average Price)\n",
    "\n",
    "\n",
    "VWAP is an execution algorithm that aims to achieve an average execution price that closely matches the volume-weighted average price of a security over a specified time period. The execution of the order is based on the volume traded at different price levels. VWAP execution is commonly used by institutional investors and traders who seek to execute large orders while minimizing the impact on the market. The VWAP algorithm calculates the target order quantity to be executed based on the proportion of the total traded volume at different price levels. This ensures that the execution is weighted according to the market activity. VWAP execution aims to achieve a price close to the average price at which the security has been traded throughout the day.\n",
    "\n",
    "\n",
    "\n",
    "Both TWAP and VWAP algorithms provide systematic and controlled execution strategies for large orders. They help traders avoid excessive market impact by executing the orders gradually and in line with the prevailing market conditions. The choice between TWAP and VWAP depends on the specific requirements and objectives of the trader or investor.\n",
    "\n",
    "It's worth noting that these algorithms are just a few examples of execution strategies, and there are other algorithms available, each with its own characteristics and benefits. Traders and investors often consider factors such as liquidity, market conditions, order size, and desired execution objectives when selecting the most appropriate algorithm for their trading needs."
   ]
  },
  {
   "cell_type": "code",
   "execution_count": 2,
   "id": "2101b42d",
   "metadata": {},
   "outputs": [
    {
     "data": {
      "text/plain": [
       "2023-05-29 19:00:30.977331    1442.590278\n",
       "2023-05-29 19:00:32.977331    2067.055556\n",
       "2023-05-29 19:00:34.977331    2602.652778\n",
       "2023-05-29 19:00:36.977331    3202.909722\n",
       "2023-05-29 19:00:38.977331    2349.187500\n",
       "Name: Volume, dtype: float64"
      ]
     },
     "execution_count": 2,
     "metadata": {},
     "output_type": "execute_result"
    }
   ],
   "source": [
    "import yfinance as yf\n",
    "\n",
    "volumes = yf.download('F','2018-01-01',datetime.today(), progress=False)['Volume']\n",
    "\n",
    "current = datetime.now()\n",
    "volume_indices = []\n",
    "for volume in volumes:\n",
    "    current += timedelta(seconds=2)\n",
    "    volume_indices.append(current)\n",
    "volumes.index = volume_indices\n",
    "volumes /= (8*60*30)\n",
    "volumes.head()"
   ]
  },
  {
   "cell_type": "code",
   "execution_count": 3,
   "id": "a790ef89",
   "metadata": {},
   "outputs": [
    {
     "name": "stdout",
     "output_type": "stream",
     "text": [
      "Order request received:           2023-05-29 19:00:28.998133\n",
      "Expected order completion time:   2023-05-29 19:00:48.998133\n",
      "----\n",
      "Order submitted for 530.3486367073672 at time 2023-05-29 19:00:30.977370\n",
      "Order submitted for 759.9247775161774 at time 2023-05-29 19:00:32.977367\n",
      "Order submitted for 956.8297899826242 at time 2023-05-29 19:00:34.977362\n",
      "Order submitted for 1177.5060672764325 at time 2023-05-29 19:00:36.977364\n",
      "Order submitted for 863.6467382229991 at time 2023-05-29 19:00:38.977367\n",
      "Order submitted for 712.9107251269751 at time 2023-05-29 19:00:40.977366\n",
      "Order submitted for 1442.8986697180485 at time 2023-05-29 19:00:42.977365\n",
      "Order submitted for 723.5874977086555 at time 2023-05-29 19:00:44.977358\n",
      "Order submitted for 1454.6962225874759 at time 2023-05-29 19:00:46.977363\n",
      "Order submitted for 1377.6508751532456 at time 2023-05-29 19:00:48.977369\n",
      "----\n",
      "Order completed: 2023-05-29 19:00:48.977666\n",
      "Total ordered: 10000.0\n"
     ]
    }
   ],
   "source": [
    "def vwap_execution(order, total_time: int, volumes):\n",
    "    \"\"\"\n",
    "    Executes an order using the TWAP algorithm.\n",
    "    \n",
    "    Parameters:\n",
    "        - order: Total order quantity to be executed\n",
    "        - intervals: The number of intervals to be used\n",
    "        - total_time: The total time for the order to be processed (in seconds)\n",
    "    \"\"\"\n",
    "    # implement method\n",
    "    \n",
    "vwap_execution(10000, 20, volumes)"
   ]
  }
 ],
 "metadata": {
  "kernelspec": {
   "display_name": "Python 3 (ipykernel)",
   "language": "python",
   "name": "python3"
  },
  "language_info": {
   "codemirror_mode": {
    "name": "ipython",
    "version": 3
   },
   "file_extension": ".py",
   "mimetype": "text/x-python",
   "name": "python",
   "nbconvert_exporter": "python",
   "pygments_lexer": "ipython3",
   "version": "3.9.13"
  }
 },
 "nbformat": 4,
 "nbformat_minor": 5
}
