{
 "cells": [
  {
   "cell_type": "markdown",
   "id": "c7327d54",
   "metadata": {},
   "source": [
    "# Technical Analysis\n",
    "Technical analysis is a methodology widely used by traders and investors to analyze market data and forecast future price movements. It involves studying historical price patterns, trends, and market indicators to identify potential trading opportunities and assess the probability of price reversals or continuations.\n",
    "\n",
    "In this notebook, we will cover a wide range of technical analysis concepts, tools, and strategies. We will explore popular technical indicators, chart patterns, and trend analysis methods. Additionally, we will delve into various techniques for evaluating market strength, measuring volatility, and identifying potential entry and exit points.\n",
    "\n",
    "By mastering the art of technical analysis, you will gain a deeper understanding of market dynamics and develop the skills to interpret price charts effectively. Whether you are a novice trader or an experienced investor, this notebook will equip you with the knowledge and tools to make more informed trading decisions."
   ]
  },
  {
   "cell_type": "code",
   "execution_count": null,
   "id": "9d17b223",
   "metadata": {},
   "outputs": [],
   "source": [
    "import pandas as pd\n",
    "import numpy as np\n",
    "import yfinance as yf\n",
    "from datetime import datetime"
   ]
  },
  {
   "cell_type": "markdown",
   "id": "dce709a5",
   "metadata": {},
   "source": [
    "#### S&P 500"
   ]
  },
  {
   "cell_type": "code",
   "execution_count": null,
   "id": "41ebb179",
   "metadata": {},
   "outputs": [],
   "source": [
    "sp500 = yf.download('^GSPC','2018-01-01',datetime.today(), progress=False)['Close'].rename('S&P 500')\n",
    "sp500.apply(lambda x: np.log(x)).plot(title='S&P 500 (log scale)');"
   ]
  },
  {
   "cell_type": "markdown",
   "id": "c0695849",
   "metadata": {},
   "source": [
    "## Moving Averages\n",
    "Moving averages are a fundamental tool in technical analysis widely used by traders and analysts to understand price trends, identify potential support and resistance levels, and generate trading signals. A moving average is a calculation that helps smooth out price data by averaging the values over a specific period, providing a clearer picture of the underlying price trend."
   ]
  },
  {
   "cell_type": "markdown",
   "id": "fe1b4364",
   "metadata": {},
   "source": [
    "##### Simple moving average"
   ]
  },
  {
   "cell_type": "code",
   "execution_count": null,
   "id": "f8a345f5",
   "metadata": {},
   "outputs": [],
   "source": []
  },
  {
   "cell_type": "markdown",
   "id": "d1e10c6e",
   "metadata": {},
   "source": [
    "##### Exponential moving average"
   ]
  },
  {
   "cell_type": "code",
   "execution_count": null,
   "id": "e3523590",
   "metadata": {},
   "outputs": [],
   "source": []
  },
  {
   "cell_type": "markdown",
   "id": "7e2504d9",
   "metadata": {},
   "source": [
    "#### Implementing an MACD trading strategy"
   ]
  },
  {
   "cell_type": "code",
   "execution_count": null,
   "id": "403c42c3",
   "metadata": {},
   "outputs": [],
   "source": [
    "import matplotlib.pyplot as plt\n",
    "plt.figure(figsize=(10,6))\n",
    "\n",
    "macd = # Complete\n",
    "signal_line = # Complete\n",
    "\n",
    "ax1 = plt.subplot2grid((8,1), (0,0), rowspan = 5, colspan = 1)\n",
    "ax2 = plt.subplot2grid((8,1), (5,0), rowspan = 3, colspan = 1)\n",
    "\n",
    "ax1.plot(sp500)\n",
    "ax2.plot(macd, color = 'grey', linewidth = 1.5, label = 'MACD')\n",
    "ax2.plot(signal_line, color = 'skyblue', linewidth = 1.5, label = 'SIGNAL')\n",
    "hist = macd - signal_line\n",
    "\n",
    "for i in range(len(sp500)):\n",
    "    if str(hist[i])[0] == '-':\n",
    "        ax2.bar(sp500.index[i], hist[i], color = '#ef5350')\n",
    "    else:\n",
    "        ax2.bar(sp500.index[i], hist[i], color = '#26a69a')\n",
    "\n",
    "plt.legend(loc = 'lower right');"
   ]
  },
  {
   "cell_type": "markdown",
   "id": "57b72d3b",
   "metadata": {},
   "source": [
    "Implement the strategy to buy whenever the signal crosses MACD goes above the signal and sell whenever the MACD moves below the signal"
   ]
  },
  {
   "cell_type": "code",
   "execution_count": null,
   "id": "9e9e1a31",
   "metadata": {},
   "outputs": [],
   "source": [
    "transactions = {'date': [], 'price': [], 'transaction': []}\n",
    "# Develop trading strategy"
   ]
  },
  {
   "cell_type": "code",
   "execution_count": null,
   "id": "bd285a1d",
   "metadata": {},
   "outputs": [],
   "source": [
    "import matplotlib.pyplot as plt\n",
    "plt.figure(figsize=(10,6))\n",
    "\n",
    "buys = transactions[transactions.transaction == 'buy'].copy()\n",
    "sells = transactions[transactions.transaction == 'sell'].copy()\n",
    "\n",
    "\n",
    "sp500 = sp500[sp500.index > pd.to_datetime('2022-01-01')]\n",
    "ema26 = sp500.ewm(span = 26).mean()\n",
    "ema12 = sp500.ewm(span = 12).mean()\n",
    "macd = ema12 - ema26\n",
    "signal_line = macd.ewm(span=9).mean()\n",
    "\n",
    "ax1 = plt.subplot2grid((8,1), (0,0), rowspan = 5, colspan = 1)\n",
    "ax2 = plt.subplot2grid((8,1), (5,0), rowspan = 3, colspan = 1)\n",
    "ax1.plot(buys.date, buys.price, marker = '^', color = 'green', markersize = 10, label = 'BUY SIGNAL', linewidth = 0)\n",
    "ax1.plot(sells.date, sells.price, marker = 'v', color = 'r', markersize = 10, label = 'SELL SIGNAL', linewidth = 0)\n",
    "\n",
    "ax1.plot(sp500)\n",
    "ax2.plot(macd, color = 'grey', linewidth = 1.5, label = 'MACD')\n",
    "ax2.plot(signal_line, color = 'skyblue', linewidth = 1.5, label = 'SIGNAL')\n",
    "hist = macd - signal_line\n",
    "\n",
    "for i in range(len(sp500)):\n",
    "    if str(hist[i])[0] == '-':\n",
    "        ax2.bar(sp500.index[i], hist[i], color = '#ef5350')\n",
    "    else:\n",
    "        ax2.bar(sp500.index[i], hist[i], color = '#26a69a')\n",
    "\n",
    "plt.legend(loc = 'lower right');"
   ]
  },
  {
   "cell_type": "markdown",
   "id": "92ba8f56",
   "metadata": {},
   "source": [
    "#### Golden Cross"
   ]
  },
  {
   "cell_type": "code",
   "execution_count": null,
   "id": "7067f09c",
   "metadata": {},
   "outputs": [],
   "source": []
  },
  {
   "cell_type": "markdown",
   "id": "ed4e3d09",
   "metadata": {},
   "source": [
    "### Relative strength index"
   ]
  },
  {
   "cell_type": "code",
   "execution_count": null,
   "id": "60e102b0",
   "metadata": {},
   "outputs": [],
   "source": [
    "rsi = # Complete"
   ]
  },
  {
   "cell_type": "code",
   "execution_count": null,
   "id": "fb16e778",
   "metadata": {},
   "outputs": [],
   "source": [
    "plt.figure(figsize=(10,6))\n",
    "# Create two charts on the same figure.\n",
    "ax1 = plt.subplot2grid((10,1), (0,0), rowspan = 4, colspan = 1)\n",
    "ax2 = plt.subplot2grid((10,1), (5,0), rowspan = 4, colspan = 1)\n",
    "\n",
    "# First chart:\n",
    "# Plot the closing price on the first chart\n",
    "ax1.plot(sp500, linewidth=2)\n",
    "ax1.set_title('S&P 500')\n",
    "\n",
    "# Second chart\n",
    "# Plot the RSI\n",
    "ax2.set_title('Relative Strength Index')\n",
    "ax2.plot(rsi, color='orange', linewidth=1)\n",
    "# Add two horizontal lines, signalling the buy and sell ranges.\n",
    "# Oversold\n",
    "ax2.axhline(30, linestyle='--', linewidth=1.5, color='green')\n",
    "# Overbought\n",
    "ax2.axhline(70, linestyle='--', linewidth=1.5, color='red');"
   ]
  },
  {
   "cell_type": "markdown",
   "id": "ec65b8f6",
   "metadata": {},
   "source": [
    "### Mean reversion strategy"
   ]
  },
  {
   "cell_type": "code",
   "execution_count": null,
   "id": "ab737546",
   "metadata": {},
   "outputs": [],
   "source": [
    "pd.concat([sp500, moving_average_15, moving_average_50], axis=1).dropna().plot();"
   ]
  },
  {
   "cell_type": "code",
   "execution_count": null,
   "id": "b4473792",
   "metadata": {},
   "outputs": [],
   "source": [
    "plt.figure(figsize=(10,6))\n",
    "# Create two charts on the same figure.\n",
    "ax1 = plt.subplot2grid((10,1), (0,0), rowspan = 4, colspan = 1)\n",
    "ax2 = plt.subplot2grid((10,1), (5,0), rowspan = 4, colspan = 1)\n",
    "\n",
    "# First chart:\n",
    "# Plot the closing price on the first chart\n",
    "mask = ~moving_average_15.isna()\n",
    "ax1.plot(sp500[mask], linewidth=2)\n",
    "ax1.plot(moving_average_15[mask], linewidth=1)\n",
    "ax1.set_title('S&P 500')\n",
    "\n",
    "difference = # Complete\n",
    "# Second chart\n",
    "ax2.set_title('Mean reversion')\n",
    "ax2.plot(difference, color='orange', linewidth=1)\n",
    "# Add two horizontal lines, signalling the buy and sell ranges.\n",
    "# Signal line\n",
    "# Complete\n"
   ]
  }
 ],
 "metadata": {
  "kernelspec": {
   "display_name": "Python 3 (ipykernel)",
   "language": "python",
   "name": "python3"
  },
  "language_info": {
   "codemirror_mode": {
    "name": "ipython",
    "version": 3
   },
   "file_extension": ".py",
   "mimetype": "text/x-python",
   "name": "python",
   "nbconvert_exporter": "python",
   "pygments_lexer": "ipython3",
   "version": "3.9.13"
  }
 },
 "nbformat": 4,
 "nbformat_minor": 5
}
