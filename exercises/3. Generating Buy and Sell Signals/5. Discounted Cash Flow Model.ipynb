{
 "cells": [
  {
   "cell_type": "markdown",
   "id": "a6580c5b-8c69-4507-89d1-66fc0a969d4c",
   "metadata": {},
   "source": [
    "# Discounted Cash Flow model\n",
    "Discounted cash flow (DCF) is a valuation method used to estimate the value of an investment based on its expected future cash flows. DCF analysis attempts to figure out the value of an investment today, based on projections of how much money it will generate in the future. This applies to the decisions of investors in companies or securities, such as acquiring a company or buying a stock, and for business owners and managers looking to make capital budgeting or operating expenditures decisions."
   ]
  },
  {
   "cell_type": "code",
   "execution_count": null,
   "id": "72935c30-36d9-4b57-b1c0-37c8ac035f05",
   "metadata": {},
   "outputs": [],
   "source": [
    "import numpy as np\n",
    "import pandas as pd\n",
    "import matplotlib.pyplot as plt\n",
    "\n",
    "COUNTRY = 'Abu Dhabi'\n",
    "INDUSTRY = 'Air Transport'\n",
    "INVESTMENT_HORIZON = '5 years'\n",
    "FIXED_ILLIQUIDITY_PREMIUM = 0.0082\n",
    "COMPANY_SIZE = 123536000\n",
    "TAX_RATE = 0.55\n",
    "EQUITY_WEIGHT = 1\n",
    "DEBT_WEIGHT = 0\n",
    "COST_OF_DEBT = 0\n",
    "GROWTH_RATE = 0.04"
   ]
  },
  {
   "cell_type": "markdown",
   "id": "2ed18db2-c185-4dd1-a6eb-2a48f8785041",
   "metadata": {},
   "source": [
    "The following calculations need to be performed before the discounted cash flow model can be applied:\n",
    "1. Calculation of the **Free Cash Flows**;\n",
    "2. Calculation of the **Weighted Average Cost of Capital**;"
   ]
  },
  {
   "cell_type": "markdown",
   "id": "4713f79e-45ff-41e8-b877-4d0465678a53",
   "metadata": {},
   "source": [
    "## Free Cash Flows\n",
    "Free cash flow (FCF) represents the cash a company generates after accounting for cash outflows to support operations and maintain its capital assets. Unlike earnings or net income, free cash flow is a measure of profitability that excludes the non-cash expenses of the income statement and includes spending on equipment and assets as well as changes in working capital from the balance sheet.\n",
    "\n",
    "Interest payments are excluded from the generally accepted definition of free cash flow. Investment bankers and analysts who need to evaluate a company’s expected performance with different capital structures will use variations of free cash flow like free cash flow for the firm and free cash flow to equity, which are adjusted for interest payments and borrowings.\n",
    "\n",
    "#### Free Cash Flow calculations\n",
    "To determine the Free Cash Flow of a company use the following calculation:\n",
    "\n",
    "$$ FCF = EBIT - Taxes - D&A - Impairment Charges - CapEx $$\n",
    "\n",
    "For all of these parameters, an estimate for five years needs to be provided in case a 5 year horizon is used."
   ]
  },
  {
   "cell_type": "code",
   "execution_count": null,
   "id": "f4eb16ec-8f54-4dfc-9c81-993c8bc0b3ce",
   "metadata": {},
   "outputs": [],
   "source": [
    "time_horizon = 6\n",
    "start_ebit = 10000\n",
    "growth_rate = 1.04\n",
    "ebit = np.repeat(start_ebit, time_horizon) * np.repeat(growth_rate, time_horizon)**np.arange(time_horizon) # Exponentially growing \n",
    "taxes = ebit * TAX_RATE\n",
    "danda = np.repeat(50, time_horizon)\n",
    "impairment_charges = np.repeat(50, time_horizon)\n",
    "capex = np.repeat(50, time_horizon)\n",
    "ebit"
   ]
  },
  {
   "cell_type": "markdown",
   "id": "ecdf8c42-c133-4287-85e6-3c90e451d0fd",
   "metadata": {},
   "source": [
    "The NOPAT (net operating profit after tax) can be specified which is defined as\n",
    "\n",
    "$$ \\text{NOPAT} = \\text{EBIT} - \\text{taxes} $$"
   ]
  },
  {
   "cell_type": "code",
   "execution_count": null,
   "id": "06280491-28c4-4c90-acb8-0e44ab276334",
   "metadata": {},
   "outputs": [],
   "source": [
    "nopat = ebit - taxes\n",
    "nopat"
   ]
  },
  {
   "cell_type": "markdown",
   "id": "62e6e32b-8b23-4362-9bde-8f83c148f8d6",
   "metadata": {},
   "source": [
    "Furthermore, additional corrections can be made to the FCF computations:"
   ]
  },
  {
   "cell_type": "code",
   "execution_count": null,
   "id": "9add908e-e4dc-4238-bcba-b06ff0fdd7b3",
   "metadata": {},
   "outputs": [],
   "source": [
    "additional_corrections = np.repeat(0, time_horizon)"
   ]
  },
  {
   "cell_type": "markdown",
   "id": "d11a0e01-3b81-4348-8c7a-be0627a35013",
   "metadata": {},
   "source": [
    "#### Computed Free Cash Flow"
   ]
  },
  {
   "cell_type": "code",
   "execution_count": null,
   "id": "5f7958f5-430b-4e64-a30a-c02f40d95f52",
   "metadata": {},
   "outputs": [],
   "source": [
    "fcf = # Complete"
   ]
  },
  {
   "cell_type": "markdown",
   "id": "9f928cdc-78ad-4670-a4b6-dcbb6f35353a",
   "metadata": {},
   "source": [
    "## Weighted Average Cost of Capital\n",
    "The weighted average cost of capital (WACC) represents a firm's average cost of capital from all sources, including common stock, preferred stock, bonds, and other forms of debt.\n",
    "\n",
    "The weighted average cost of capital is a common way to determine required rate of return because it expresses, in a single number, the return that both bondholders and shareholders demand in order to provide the company with capital. A firm’s WACC is likely to be higher if its stock is relatively volatile or if its debt is seen as risky because investors will demand greater returns. \n",
    "\n",
    "### Weighted Average Cost of Capital calculations\n",
    "The WACC is calculated by using the following formulas:\n",
    "\n",
    "$$ \\text{WACC} = \\text{Cost of Equity} * \\text{Equity Weight} + (1 - \\text{corporate tax})* \\text{cost of debt} * \\text{debt weight} $$\n",
    "\n",
    "$$ \\text{Cost of equity} = \\text{risk free rate (US)} + (\\text{Beta company} * \\text{Equity risk premium} + \\text{Illiquidity premium} + \\text{Size premium}) $$\n",
    "\n",
    "$$ \\text{Equity risk premium} = \\text{Country Risk Premium} + \\text{Risk Free Rate US} + (\\text{Country inflation} - \\text{US inflation}) - \\text{Risk Free Rate country} $$\n",
    "\n",
    "#### Equity risk premium\n",
    "Equity Risk Premium is the difference between returns on equity/individual stock and the risk-free rate of return. The risk-free rate of return can be benchmarked to longer-term government bonds, assuming zero default risk by the government. It is the excess return a stock pays to the holder over and above the risk-free rate for the risk the holder is taking. It is the compensation to the investor for taking a higher level of risk and investing in equity rather than risk-free securities."
   ]
  },
  {
   "cell_type": "code",
   "execution_count": null,
   "id": "a7897259-5f50-401b-a3d1-b251f859dc7a",
   "metadata": {},
   "outputs": [],
   "source": [
    "risk_premium_country = 0.1\n",
    "risk_free_rate_us = 0.01\n",
    "inflation_country = 0.01\n",
    "inflation_us = 0.02\n",
    "risk_free_rate_country = 0.01\n",
    "\n",
    "equity_risk_premium = # Complete\n",
    "\n",
    "print(f\"Equity risk premium {COUNTRY}: {round(risk_premium_country, 4)}\")\n",
    "print(f\"Market risk premium: {round(risk_premium_country + risk_free_rate_us, 4)}\")\n",
    "print(f\"{COUNTRY} expected return: {round(risk_premium_country + risk_free_rate_us + (inflation_country - inflation_us), 4)}\")\n",
    "print(\"-\"*10)\n",
    "print(f\"Equity risk premium: {round(equity_risk_premium, 4)}\")"
   ]
  },
  {
   "cell_type": "markdown",
   "id": "c939becd-bae3-463e-bc6f-ddccbf3a73b8",
   "metadata": {},
   "source": [
    "#### Cost of Equity\n",
    "The cost of equity is the return that a company requires to decide if an investment meets capital return requirements. Firms often use it as a capital budgeting threshold for the required rate of return. A firm’s cost of equity represents the compensation that the market demands in exchange for owning the asset and bearing the risk of ownership. The traditional formula for the cost of equity is the dividend capitalization model and the capital asset pricing model (CAPM).\n",
    "\n",
    "$$ \\text{Cost of equity} = \\text{risk free rate (US)} + (\\text{Beta company} * \\text{Equity risk premium} + \\text{Illiquidity premium} + \\text{Size premium}) $$"
   ]
  },
  {
   "cell_type": "code",
   "execution_count": null,
   "id": "0bf24a50-36d9-4b31-b4ec-b0af4272c9b6",
   "metadata": {},
   "outputs": [],
   "source": [
    "beta_company = 0.8\n",
    "illiquidity_premium = 0.15 + FIXED_ILLIQUIDITY_PREMIUM\n",
    "size_premium = 0.05\n",
    "\n",
    "cost_of_equity = risk_free_rate_us \\\n",
    "                    + beta_company*equity_risk_premium \\\n",
    "                    + illiquidity_premium \\\n",
    "                    + size_premium\n",
    "\n",
    "print(cost_of_equity)"
   ]
  },
  {
   "cell_type": "markdown",
   "id": "be21f3f4-6aaa-46fe-a151-3d29b9f0f81d",
   "metadata": {},
   "source": [
    "#### Weighted Average Cost of Capital\n",
    "The final step is the calculation of the WACC:\n",
    "\n",
    "$$ \\text{WACC} = \\text{Cost of Equity} * \\text{Equity Weight} + (1 - \\text{corporate tax})* \\text{cost of debt} * \\text{debt weight} $$"
   ]
  },
  {
   "cell_type": "code",
   "execution_count": null,
   "id": "e7241810-f829-4a81-bda7-5b6ad4980cc8",
   "metadata": {},
   "outputs": [],
   "source": [
    "wacc = cost_of_equity*EQUITY_WEIGHT \\\n",
    "        + (1-TAX_RATE)*COST_OF_DEBT*DEBT_WEIGHT\n",
    "wacc"
   ]
  },
  {
   "cell_type": "markdown",
   "id": "298353f1-f168-4a86-bc1e-57101077da75",
   "metadata": {},
   "source": [
    "## Discounted Cash Flows\n",
    "### Present value of Free Cash Flows\n",
    "The next step is to calculate the present value of the free cash flows computed earlier."
   ]
  },
  {
   "cell_type": "code",
   "execution_count": null,
   "id": "d7cb19c6-150f-4ea9-b0c9-8ea0d5b73906",
   "metadata": {},
   "outputs": [],
   "source": [
    "fcf_present_value = # Complete"
   ]
  },
  {
   "cell_type": "markdown",
   "id": "bffaae1e-6349-4ff7-992c-da26b79ce515",
   "metadata": {},
   "source": [
    "### Implied Enterprise Value\n",
    "The implied enterprise value is then calculated using the following method:\n",
    "\n",
    "$$ \\text{EV} = \\sum^n_{i=1} \\text{DCF}_{i} + \\frac{\\text{Terminal Value}}{(1 + \\text{WACC})^{n+1}} $$\n",
    "\n",
    "$$ \\text{Terminal Value} = \\frac{\\text{FCF}_n * (1 + \\text{Growth Rate})}{\\text{WACC} - \\text{Growth Rate}} $$"
   ]
  },
  {
   "cell_type": "code",
   "execution_count": null,
   "id": "c72a0691-3675-4019-ae69-a370126683a8",
   "metadata": {},
   "outputs": [],
   "source": [
    "terminal_value = # Complete\n",
    "enterprise_value = # Complete"
   ]
  },
  {
   "cell_type": "markdown",
   "id": "8d9e264b-b5b5-4c28-95b7-f3d883889485",
   "metadata": {},
   "source": [
    "### Equity value\n",
    "The equity value is calculated based on the enterprise value:\n",
    "\n",
    "$$ \\text{Equity Value} = \\text{EV} + \\text{Cash equivalents} - \\text{Non-Controlling Interests} - \\text{Preffered Stock} -  \\text{Total Debt} $$"
   ]
  },
  {
   "cell_type": "code",
   "execution_count": null,
   "id": "0b190fa5",
   "metadata": {},
   "outputs": [],
   "source": [
    "cash_equivalents = 0\n",
    "non_controlling_interests = 0\n",
    "preferred_stock = 0\n",
    "total_debt = 0\n",
    "\n",
    "equity_value = enterprise_value \\\n",
    "                + cash_equivalents \\\n",
    "                - non_controlling_interests \\\n",
    "                - preferred_stock \\\n",
    "                - total_debt\n",
    "equity_value"
   ]
  },
  {
   "cell_type": "markdown",
   "id": "da825e35-c405-4d6f-97f0-46732ab96818",
   "metadata": {},
   "source": [
    "## Class implementation"
   ]
  },
  {
   "cell_type": "code",
   "execution_count": null,
   "id": "4c9ced6d-290e-48f5-8048-1db929a1ee9a",
   "metadata": {},
   "outputs": [],
   "source": [
    "from models import DiscountedCashFlow\n",
    "\n",
    "dcf = DiscountedCashFlow(fcf, wacc, growth_rate-1)\n",
    "dcf.enterprise_value"
   ]
  },
  {
   "cell_type": "markdown",
   "id": "bdbb90ce-0519-4fec-9ca5-504e79087c87",
   "metadata": {},
   "source": [
    "## Sensitivity Analysis\n",
    "Sensitivity analysis is used to determine the impact of changes in the underlying model parameters on the outcome of the analysis. In the discounted cash flow model, the two main parameters are:\n",
    "1. The **growth rate** which shows the perpetual growth of the free cash flows.\n",
    "2. The **wacc** which is used for discounting the free cash flows and the terminal value."
   ]
  },
  {
   "cell_type": "markdown",
   "id": "3c7b0a72-b9f0-4fa4-aa1e-989d9fb6a571",
   "metadata": {},
   "source": [
    "### Univariate - Growth rate"
   ]
  },
  {
   "cell_type": "code",
   "execution_count": null,
   "id": "ca129d2b-a3bd-40df-86e6-a058fd83b782",
   "metadata": {},
   "outputs": [],
   "source": [
    "min_growth = 0.02\n",
    "max_growth = 0.07\n",
    "\n",
    "growth_rates = # Complete\n",
    "evs = # Complete\n",
    "\n",
    "plt.plot(growth_rates, evs)\n",
    "plt.title(\"Sensitivity analysis - Growth Rate\")\n",
    "plt.xlabel(\"Growth Rate\")\n",
    "plt.ylabel(\"Enterprise Value\")\n",
    "plt.axvline(x=GROWTH_RATE, color='k');\n",
    "plt.axvline(x=GROWTH_RATE - 0.01, color='grey', linestyle='--');\n",
    "plt.axvline(x=GROWTH_RATE + 0.01, color='grey', linestyle='--');"
   ]
  },
  {
   "cell_type": "markdown",
   "id": "86930f4d-10b2-4ac4-91fc-1df56f2d00b7",
   "metadata": {},
   "source": [
    "### Univariate - WACC"
   ]
  },
  {
   "cell_type": "code",
   "execution_count": null,
   "id": "d750d688-9440-4c19-afc0-61a3d980500a",
   "metadata": {},
   "outputs": [],
   "source": [
    "min_wacc = 0.2\n",
    "max_wacc = 0.4\n",
    "\n",
    "waccs = # Complete\n",
    "evs = # Complete\n",
    "\n",
    "plt.plot(waccs, evs)\n",
    "plt.title(\"Sensitivity analysis - WACC\")\n",
    "plt.xlabel(\"WACC\")\n",
    "plt.ylabel(\"Enterprise Value\")\n",
    "plt.axvline(x=wacc, color='k');\n",
    "plt.axvline(x=wacc - 0.05, color='grey', linestyle='--');\n",
    "plt.axvline(x=wacc + 0.05, color='grey', linestyle='--');"
   ]
  }
 ],
 "metadata": {
  "kernelspec": {
   "display_name": "Python 3 (ipykernel)",
   "language": "python",
   "name": "python3"
  },
  "language_info": {
   "codemirror_mode": {
    "name": "ipython",
    "version": 3
   },
   "file_extension": ".py",
   "mimetype": "text/x-python",
   "name": "python",
   "nbconvert_exporter": "python",
   "pygments_lexer": "ipython3",
   "version": "3.9.16"
  },
  "toc-showcode": true
 },
 "nbformat": 4,
 "nbformat_minor": 5
}
