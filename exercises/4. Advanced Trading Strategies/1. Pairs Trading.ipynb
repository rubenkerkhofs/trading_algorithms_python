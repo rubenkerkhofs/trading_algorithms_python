{
 "cells": [
  {
   "cell_type": "markdown",
   "id": "69edb47c",
   "metadata": {},
   "source": [
    "# Pairs Trading\n",
    "In this notebook, we will delve into the concept of pairs trading, understand the underlying principles, and learn how to implement and evaluate pairs trading strategies using Python. We will explore the steps involved in identifying suitable pairs, formulating trading rules, and assessing the profitability and risk of our trading strategies.\n",
    "\n",
    "Pairs trading is based on the notion that, over time, the prices of two assets that are historically correlated tend to revert to their mean relationship. This mean reversion behavior forms the foundation of the strategy, which involves taking long and short positions in the two assets to profit from the expected convergence of their prices."
   ]
  },
  {
   "cell_type": "code",
   "execution_count": null,
   "id": "ff7d904a",
   "metadata": {},
   "outputs": [],
   "source": [
    "from datetime import datetime\n",
    "import pandas as pd\n",
    "import numpy as np\n",
    "import matplotlib.pyplot as plt\n",
    "import yfinance as yf"
   ]
  },
  {
   "cell_type": "markdown",
   "id": "2c045fbf",
   "metadata": {},
   "source": [
    "#### Data"
   ]
  },
  {
   "cell_type": "code",
   "execution_count": null,
   "id": "ee7fda1d",
   "metadata": {},
   "outputs": [],
   "source": [
    "dov = yf.download('DOV','2021-01-01',datetime.today(), progress=False)['Close'].rename('Dover Corp.')\n",
    "ame = yf.download('AME','2021-01-01',datetime.today(), progress=False)['Close'].rename('Ametek Inc.')"
   ]
  },
  {
   "cell_type": "code",
   "execution_count": null,
   "id": "db1b90ab",
   "metadata": {},
   "outputs": [],
   "source": [
    "pd.concat([dov, ame], axis=1).plot();"
   ]
  },
  {
   "cell_type": "markdown",
   "id": "73fba73d",
   "metadata": {},
   "source": [
    "#### Spread visualization"
   ]
  },
  {
   "cell_type": "code",
   "execution_count": null,
   "id": "cc08643a",
   "metadata": {},
   "outputs": [],
   "source": [
    "plt.figure(figsize=(10,6))\n",
    "# Create two charts on the same figure.\n",
    "ax1 = plt.subplot2grid((10,1), (0,0), rowspan = 4, colspan = 1)\n",
    "ax2 = plt.subplot2grid((10,1), (5,0), rowspan = 4, colspan = 1)\n",
    "\n",
    "# First chart:\n",
    "# Plot the closing price on the first chart\n",
    "ax1.plot(dov, linewidth=2)\n",
    "ax1.plot(ame, linewidth=2)\n",
    "ax1.set_title('Pair')\n",
    "\n",
    "# Second chart\n",
    "# Plot the Spread\n",
    "spreads = # Complete\n",
    "ax2.set_title('Spread Monitor')\n",
    "ax2.plot(spreads, color='orange', linewidth=1)\n",
    "# Add two horizontal lines, signalling the buy and sell ranges.\n",
    "# Oversold\n",
    "ax2.axhline(17, linestyle='--', linewidth=1, color='green')\n",
    "# Overbought\n",
    "ax2.axhline(-17, linestyle='--', linewidth=1, color='green');"
   ]
  },
  {
   "cell_type": "markdown",
   "id": "de32b615",
   "metadata": {},
   "source": [
    "#### Translate into a strategy"
   ]
  },
  {
   "cell_type": "code",
   "execution_count": null,
   "id": "9d833469",
   "metadata": {},
   "outputs": [],
   "source": [
    "transactions = {'date': [], 'price': [], 'transaction': [], 'firm': []}\n",
    "\n",
    "signal = 0\n",
    "for i, spread in enumerate(spreads):\n",
    "    if #Complete:\n",
    "        transactions['date'].append(dov.index[i])\n",
    "        transactions['price'].append(dov[i])\n",
    "        transactions['transaction'].append('Short')\n",
    "        transactions['firm'].append('Dover')\n",
    "        transactions['date'].append(ame.index[i])\n",
    "        transactions['price'].append(ame[i])\n",
    "        transactions['transaction'].append('Long')\n",
    "        transactions['firm'].append('Ametek')\n",
    "        signal = 1\n",
    "    elif #Complete:\n",
    "        transactions['date'].append(dov.index[i])\n",
    "        transactions['price'].append(dov[i])\n",
    "        transactions['transaction'].append('Long')\n",
    "        transactions['firm'].append('Dover')\n",
    "        transactions['date'].append(ame.index[i])\n",
    "        transactions['price'].append(ame[i])\n",
    "        transactions['transaction'].append('Short')\n",
    "        transactions['firm'].append('Ametek')\n",
    "        signal = 0\n",
    "    if #Complete:\n",
    "        transactions['date'].append(dov.index[i])\n",
    "        transactions['price'].append(dov[i])\n",
    "        transactions['transaction'].append('Long')\n",
    "        transactions['firm'].append('Dover')\n",
    "        transactions['date'].append(ame.index[i])\n",
    "        transactions['price'].append(ame[i])\n",
    "        transactions['transaction'].append('Short')\n",
    "        transactions['firm'].append('Ametek')\n",
    "        signal = -1\n",
    "    elif #Complete:\n",
    "        transactions['date'].append(dov.index[i])\n",
    "        transactions['price'].append(dov[i])\n",
    "        transactions['transaction'].append('Short')\n",
    "        transactions['firm'].append('Dover')\n",
    "        transactions['date'].append(ame.index[i])\n",
    "        transactions['price'].append(ame[i])\n",
    "        transactions['transaction'].append('Long')\n",
    "        transactions['firm'].append('Ametek')\n",
    "        signal = 0\n",
    "        \n",
    "transactions = pd.DataFrame(transactions)\n",
    "transactions"
   ]
  },
  {
   "cell_type": "code",
   "execution_count": null,
   "id": "a9d5f36c",
   "metadata": {},
   "outputs": [],
   "source": [
    "plt.figure(figsize=(10,6))\n",
    "\n",
    "buys = transactions[transactions.transaction == 'Long'].copy()\n",
    "sells = transactions[transactions.transaction == 'Short'].copy()\n",
    "\n",
    "\n",
    "ax1 = plt.subplot2grid((8,1), (0,0), rowspan = 5, colspan = 1)\n",
    "ax2 = plt.subplot2grid((8,1), (5,0), rowspan = 3, colspan = 1)\n",
    "ax1.plot(dov, linewidth=2)\n",
    "ax1.plot(ame, linewidth=2)\n",
    "ax1.set_title('Pair')\n",
    "ax1.plot(buys.date, buys.price, marker = '^', color = 'green', markersize = 10, label = 'Long', linewidth = 0)\n",
    "ax1.plot(sells.date, sells.price, marker = 'v', color = 'r', markersize = 10, label = 'Short', linewidth = 0)\n",
    "ax1.plot(closes.date, closes.price, marker = '.', color = 'orange', markersize = 10, label = 'Close', linewidth = 0)\n",
    "\n",
    "\n",
    "spreads = dov-ame\n",
    "ax2.set_title('Spread Monitor')\n",
    "ax2.plot(spreads, color='orange', linewidth=1)\n",
    "ax2.axhline(17, linestyle='--', linewidth=1, color='green')\n",
    "ax2.axhline(-17, linestyle='--', linewidth=1, color='green');"
   ]
  }
 ],
 "metadata": {
  "kernelspec": {
   "display_name": "Python 3 (ipykernel)",
   "language": "python",
   "name": "python3"
  },
  "language_info": {
   "codemirror_mode": {
    "name": "ipython",
    "version": 3
   },
   "file_extension": ".py",
   "mimetype": "text/x-python",
   "name": "python",
   "nbconvert_exporter": "python",
   "pygments_lexer": "ipython3",
   "version": "3.9.16"
  }
 },
 "nbformat": 4,
 "nbformat_minor": 5
}
