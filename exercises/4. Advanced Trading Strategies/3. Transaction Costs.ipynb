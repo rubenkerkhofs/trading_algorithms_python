{
 "cells": [
  {
   "cell_type": "markdown",
   "id": "8fa33326",
   "metadata": {},
   "source": [
    "# Transaction Costs"
   ]
  },
  {
   "cell_type": "code",
   "execution_count": null,
   "id": "7bf7786f",
   "metadata": {},
   "outputs": [],
   "source": [
    "import numpy as np\n",
    "import matplotlib.pyplot as plt\n",
    "import pandas as pd\n",
    "import time"
   ]
  },
  {
   "cell_type": "markdown",
   "id": "ddf1ed06",
   "metadata": {},
   "source": [
    "#### Almgren et al (2005)\n",
    "This model assumes the initial order, X, is completed at a uniform rate of trading over a volume time interval T. That is, the trade rate in volume units is v = X/T, and is held constant until the trade is completed. Constant rate in these units is equivalent to VWAP execution during the time of execution."
   ]
  },
  {
   "cell_type": "code",
   "execution_count": null,
   "id": "c814c1fb",
   "metadata": {},
   "outputs": [],
   "source": [
    "def perm_impact(pct_adv, annual_vol_pct = 0.25, inv_turnover = 200):\n",
    "    gamma = 0.314\n",
    "    return 10000 * gamma * (annual_vol_pct / np.sqrt(250)) * pct_adv * (inv_turnover)**0.25\n",
    "\n",
    "def temp_impact(pct_adv, minutes, annual_vol_pct = 0.25, minutes_in_day = 60*6.5):\n",
    "    eta = 0.142\n",
    "    day_frac = minutes / minutes_in_day\n",
    "    return 10000 * eta * (annual_vol_pct / np.sqrt(250)) * abs(pct_adv/day_frac)**0.6\n",
    "\n",
    "def tc_bps(pct_adv, minutes, annual_vol_pct = 0.25, inv_turnover = 200):\n",
    "    \"\"\"\n",
    "    pct_adv: percentage of average daily volume\n",
    "    minutes: number of minutes\n",
    "    annual_vol_pct: annual volatility\n",
    "    inv_turnover: inverse of number of shares traded on a daily basis as a percentage of total number of shares\n",
    "    \"\"\"\n",
    "    perm = perm_impact(pct_adv, annual_vol_pct=annual_vol_pct, inv_turnover=inv_turnover)\n",
    "    temp = temp_impact(pct_adv, minutes, annual_vol_pct=annual_vol_pct, minutes_in_day=0.1*60*6.5)\n",
    "    return 0.5 * perm + temp"
   ]
  },
  {
   "cell_type": "markdown",
   "id": "0d04e485",
   "metadata": {},
   "source": [
    "**Speed of execution vs Transaction Cost**\n",
    "\n",
    "We are trading 10\\% of ADV of a stock with a daily vol of 1.57\\%. Assume an inverse turnover equal to 200:"
   ]
  },
  {
   "cell_type": "code",
   "execution_count": null,
   "id": "d7b7b73d",
   "metadata": {},
   "outputs": [],
   "source": [
    "annual_vol = 0.0157*np.sqrt(250)\n",
    "\n",
    "fast = # Complete\n",
    "medium = # Complete\n",
    "slow = # Complete\n",
    "\n",
    "print('Cost to trade Fast   (First 40 mins) :', round(fast,2), 'bps')\n",
    "print('Cost to trade Medium (First 90 mins) :', round(medium,2), 'bps')\n",
    "print('Cost to trade Slow   (First 240 mins):', round(slow,2), 'bps')"
   ]
  },
  {
   "cell_type": "markdown",
   "id": "79b0d86b",
   "metadata": {},
   "source": [
    "**Specific Example**\n",
    "\n",
    "Let's say we wanted to trade $2M notional of a stock trading at a share price of 110.89. The average daily volume is equal to 30M shares and the market cap of the firm is 275 Billion. Assume an annual volatility of 0.22. What would be the transaction cost if we performed this transaction in 15 minutes?"
   ]
  },
  {
   "cell_type": "code",
   "execution_count": null,
   "id": "8e84564b",
   "metadata": {},
   "outputs": [],
   "source": [
    "# Complete\n",
    "\n",
    "print(\"Expected tc in bps: %0.2f\" % expected_tc)\n",
    "print(\"Expected tc in $ per share: %0.2f\" % (expected_tc*stock_price / 10000))"
   ]
  },
  {
   "cell_type": "markdown",
   "id": "78eca10e",
   "metadata": {},
   "source": [
    "Explore the relationship between execution time (in minutes) and the transaction cost:"
   ]
  },
  {
   "cell_type": "code",
   "execution_count": null,
   "id": "2c743b67",
   "metadata": {},
   "outputs": [],
   "source": [
    "# Complete\n",
    "plt.ylabel('tcost in bps')\n",
    "plt.xlabel('Trade as % of ADV')\n",
    "plt.title(r'tcost in Basis Points');"
   ]
  },
  {
   "cell_type": "markdown",
   "id": "fb5928e8",
   "metadata": {},
   "source": [
    "**Distinction between permanent and temporary impact**"
   ]
  },
  {
   "cell_type": "code",
   "execution_count": null,
   "id": "0c6a59ab",
   "metadata": {},
   "outputs": [],
   "source": [
    "minutes = 30\n",
    "x = np.linspace(0.0001,0.03)\n",
    "\n",
    "f, (ax1, ax2) = plt.subplots(ncols=2, sharex=True, sharey=True, figsize=(15, 5))\n",
    "f.subplots_adjust(hspace=0.15)\n",
    "    \n",
    "p = 0.5*perm_impact(x, 0.20)\n",
    "t = tc_bps(x, minutes, 0.20)\n",
    "ax1.fill_between(x*100, p, t, color='b', alpha=0.33);\n",
    "ax1.fill_between(x*100, 0, p, color='k', alpha=0.66);\n",
    "ax1.set_ylabel('tcost in bps')\n",
    "ax1.set_xlabel('Trade as % of ADV')\n",
    "ax1.set_title(r'tcost in bps of Trade Value; $\\sigma$ = 20%; time = 15 minutes');\n",
    "\n",
    "p = 0.5*perm_impact(x, 0.40)\n",
    "t = tc_bps(x,minutes, 0.40)\n",
    "ax2.fill_between(x*100, p, t, color='b', alpha=0.33);\n",
    "ax2.fill_between(x*100, 0, p, color='k', alpha=0.66);\n",
    "\n",
    "plt.xlabel('Trade as % of ADV')\n",
    "plt.title(r'tcost in bps of Trade Value; $\\sigma$ = 40%; time = 15 minutes');"
   ]
  },
  {
   "cell_type": "markdown",
   "id": "8c8bd15c",
   "metadata": {},
   "source": [
    "#### Kissel et al (2004)\n",
    "This model assumes a theoretical instaneous impact cost I* incurred by the investor if all shares Q were released to the market."
   ]
  },
  {
   "cell_type": "code",
   "execution_count": null,
   "id": "77db99d2",
   "metadata": {},
   "outputs": [],
   "source": [
    "def kissell(adv, annual_vol, order_size):\n",
    "    \"\"\"\n",
    "    adv: average daily volume\n",
    "    annual_vol_pct: annual volatility\n",
    "    order size: size of the order\n",
    "    \"\"\"\n",
    "    b1, a1, a2, a3, a4 = 0.8, 750., 0.5, 0.75, 0.5\n",
    "    i_star = a1 * ((order_size/adv)**a2) * annual_vol**a3\n",
    "    PoV = order_size/(order_size + adv)\n",
    "    return b1 * i_star * PoV**a4 + (1 - b1) * i_star"
   ]
  },
  {
   "cell_type": "markdown",
   "id": "3ad4bde4",
   "metadata": {},
   "source": [
    "Assume we have an average daily volume 200 000 shares and annual volatility of 0.22. Investigate the transaction costs for varying order sizes:"
   ]
  },
  {
   "cell_type": "code",
   "execution_count": null,
   "id": "7df51443",
   "metadata": {},
   "outputs": [],
   "source": [
    "# Complete\n",
    "plt.ylabel('tcost in bps')\n",
    "plt.xlabel('Trade volume')\n",
    "plt.title(r'tcost in Basis Points');"
   ]
  },
  {
   "cell_type": "markdown",
   "id": "159fe8d3",
   "metadata": {},
   "source": [
    "#### Zipline Volume Slippage Model"
   ]
  },
  {
   "cell_type": "code",
   "execution_count": null,
   "id": "8f8ef21b",
   "metadata": {},
   "outputs": [],
   "source": [
    "def zipline(pct_adv, minutes=1.0, minutes_in_day=60*6.5):\n",
    "    day_frac = minutes / minutes_in_day\n",
    "    tc_pct = 0.1 * abs(pct_adv/day_frac)**2\n",
    "    return tc_pct*10000\n",
    "\n",
    "# Complete\n",
    "plt.ylabel('tcost in bps')\n",
    "plt.xlabel('Trade volume (% ADV)')\n",
    "plt.title(r'tcost');"
   ]
  },
  {
   "cell_type": "markdown",
   "id": "4e49011d",
   "metadata": {},
   "source": [
    "## Comparison"
   ]
  },
  {
   "cell_type": "code",
   "execution_count": null,
   "id": "1c56a017",
   "metadata": {},
   "outputs": [],
   "source": [
    "x = np.linspace(0.0001, 0.01)\n",
    "plt.plot(x*100,tc_bps(x, 30, 0.20), label=r\"Almgren\");\n",
    "plt.plot(x*100,zipline(x, minutes=30),label=\"Zipline VSS\");\n",
    "plt.plot(x*100,kissell(5*10**6,0.20, x*2000*10**3), label=r\"Kissell\");\n",
    "\n",
    "plt.ylabel('tcost in bps')\n",
    "plt.xlabel('Trade as % of ADV')\n",
    "plt.title('tcost in Basis Points of Trade Value; time = 30 minutes');\n",
    "plt.legend();"
   ]
  }
 ],
 "metadata": {
  "kernelspec": {
   "display_name": "Python 3 (ipykernel)",
   "language": "python",
   "name": "python3"
  },
  "language_info": {
   "codemirror_mode": {
    "name": "ipython",
    "version": 3
   },
   "file_extension": ".py",
   "mimetype": "text/x-python",
   "name": "python",
   "nbconvert_exporter": "python",
   "pygments_lexer": "ipython3",
   "version": "3.9.16"
  }
 },
 "nbformat": 4,
 "nbformat_minor": 5
}
