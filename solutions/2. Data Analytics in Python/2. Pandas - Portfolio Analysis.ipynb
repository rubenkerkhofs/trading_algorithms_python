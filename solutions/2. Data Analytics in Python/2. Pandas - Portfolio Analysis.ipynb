{
 "cells": [
  {
   "cell_type": "markdown",
   "metadata": {
    "id": "jnTdloC56Exd"
   },
   "source": [
    "## Portfolio Analysis using Pandas\n",
    "Python Pandas, a widely used data manipulation and analysis library, provides an ideal toolkit for working with financial data. Its intuitive and versatile functionalities enable us to efficiently handle large datasets, perform complex calculations, and visualize the results. By leveraging the capabilities of Pandas, we can streamline our portfolio analysis and gain valuable insights into the performance of different trading strategies.\n",
    "\n",
    "In this notebook, we will embark on a journey to analyze a portfolio using Python Pandas."
   ]
  },
  {
   "cell_type": "markdown",
   "metadata": {
    "id": "OsefSwj36Exe"
   },
   "source": [
    "### Data import"
   ]
  },
  {
   "cell_type": "code",
   "execution_count": 1,
   "metadata": {
    "executionInfo": {
     "elapsed": 974,
     "status": "ok",
     "timestamp": 1608044932745,
     "user": {
      "displayName": "Thomas Nelen",
      "photoUrl": "",
      "userId": "09198946240301374422"
     },
     "user_tz": -60
    },
    "id": "lpyn1YJ56Exf"
   },
   "outputs": [],
   "source": [
    "import pandas as pd"
   ]
  },
  {
   "cell_type": "code",
   "execution_count": 2,
   "metadata": {
    "colab": {
     "base_uri": "https://localhost:8080/",
     "height": 142
    },
    "executionInfo": {
     "elapsed": 26846,
     "status": "ok",
     "timestamp": 1608044542722,
     "user": {
      "displayName": "Thomas Nelen",
      "photoUrl": "",
      "userId": "09198946240301374422"
     },
     "user_tz": -60
    },
    "id": "sIUl2FM76Exf",
    "outputId": "593fc035-1904-4b2f-f230-79f25dcfce44"
   },
   "outputs": [
    {
     "data": {
      "text/html": [
       "<div>\n",
       "<style scoped>\n",
       "    .dataframe tbody tr th:only-of-type {\n",
       "        vertical-align: middle;\n",
       "    }\n",
       "\n",
       "    .dataframe tbody tr th {\n",
       "        vertical-align: top;\n",
       "    }\n",
       "\n",
       "    .dataframe thead th {\n",
       "        text-align: right;\n",
       "    }\n",
       "</style>\n",
       "<table border=\"1\" class=\"dataframe\">\n",
       "  <thead>\n",
       "    <tr style=\"text-align: right;\">\n",
       "      <th></th>\n",
       "      <th>date</th>\n",
       "      <th>country</th>\n",
       "      <th>sector</th>\n",
       "      <th>exposure</th>\n",
       "      <th>mtd</th>\n",
       "      <th>nav</th>\n",
       "      <th>strategy</th>\n",
       "      <th>type</th>\n",
       "      <th>issuer</th>\n",
       "    </tr>\n",
       "  </thead>\n",
       "  <tbody>\n",
       "    <tr>\n",
       "      <th>20000</th>\n",
       "      <td>2018-11-30</td>\n",
       "      <td>Italy</td>\n",
       "      <td>Diversified</td>\n",
       "      <td>827701.927532</td>\n",
       "      <td>662185.982675</td>\n",
       "      <td>1.335799e+08</td>\n",
       "      <td>CAPITAL MARKETS</td>\n",
       "      <td>Equity Right</td>\n",
       "      <td>Spaxs SpA</td>\n",
       "    </tr>\n",
       "    <tr>\n",
       "      <th>20750</th>\n",
       "      <td>2018-12-31</td>\n",
       "      <td>Norway</td>\n",
       "      <td>Energy</td>\n",
       "      <td>0.000000</td>\n",
       "      <td>0.000000</td>\n",
       "      <td>1.019061e+08</td>\n",
       "      <td>SPECIAL SITUATIONS</td>\n",
       "      <td>Bond Corporate</td>\n",
       "      <td>DNO ASA</td>\n",
       "    </tr>\n",
       "    <tr>\n",
       "      <th>7732</th>\n",
       "      <td>2018-05-31</td>\n",
       "      <td>United Kingdom</td>\n",
       "      <td>Communications</td>\n",
       "      <td>0.000000</td>\n",
       "      <td>0.000000</td>\n",
       "      <td>2.027182e+08</td>\n",
       "      <td>SPECIAL SITUATIONS</td>\n",
       "      <td>Contract for Difference</td>\n",
       "      <td>INMARSAT PLC</td>\n",
       "    </tr>\n",
       "  </tbody>\n",
       "</table>\n",
       "</div>"
      ],
      "text/plain": [
       "            date         country          sector       exposure  \\\n",
       "20000 2018-11-30           Italy     Diversified  827701.927532   \n",
       "20750 2018-12-31          Norway          Energy       0.000000   \n",
       "7732  2018-05-31  United Kingdom  Communications       0.000000   \n",
       "\n",
       "                 mtd           nav            strategy  \\\n",
       "20000  662185.982675  1.335799e+08     CAPITAL MARKETS   \n",
       "20750       0.000000  1.019061e+08  SPECIAL SITUATIONS   \n",
       "7732        0.000000  2.027182e+08  SPECIAL SITUATIONS   \n",
       "\n",
       "                          type        issuer  \n",
       "20000             Equity Right     Spaxs SpA  \n",
       "20750           Bond Corporate       DNO ASA  \n",
       "7732   Contract for Difference  INMARSAT PLC  "
      ]
     },
     "execution_count": 2,
     "metadata": {},
     "output_type": "execute_result"
    }
   ],
   "source": [
    "portfolio = pd.read_excel('data/portfolio.xls')\n",
    "portfolio.sample(3)"
   ]
  },
  {
   "cell_type": "markdown",
   "metadata": {
    "id": "2EOMHDVO6Exf"
   },
   "source": [
    "Some basic explorations of the data can be done using the .info() and .describe() methods of the pandas DataFrame class."
   ]
  },
  {
   "cell_type": "code",
   "execution_count": 3,
   "metadata": {},
   "outputs": [
    {
     "name": "stdout",
     "output_type": "stream",
     "text": [
      "<class 'pandas.core.frame.DataFrame'>\n",
      "RangeIndex: 22093 entries, 0 to 22092\n",
      "Data columns (total 9 columns):\n",
      " #   Column    Non-Null Count  Dtype         \n",
      "---  ------    --------------  -----         \n",
      " 0   date      22093 non-null  datetime64[ns]\n",
      " 1   country   22093 non-null  object        \n",
      " 2   sector    22093 non-null  object        \n",
      " 3   exposure  22093 non-null  float64       \n",
      " 4   mtd       22093 non-null  float64       \n",
      " 5   nav       22093 non-null  float64       \n",
      " 6   strategy  22093 non-null  object        \n",
      " 7   type      22093 non-null  object        \n",
      " 8   issuer    22093 non-null  object        \n",
      "dtypes: datetime64[ns](1), float64(3), object(5)\n",
      "memory usage: 1.5+ MB\n"
     ]
    }
   ],
   "source": [
    "portfolio.info()"
   ]
  },
  {
   "cell_type": "markdown",
   "metadata": {},
   "source": [
    "## Basic Data Manipulation"
   ]
  },
  {
   "cell_type": "markdown",
   "metadata": {},
   "source": [
    "**Exercise 1**: get all observations with country equal to switzerland and save it in a new DataFrame object named *portfolio_swiss*"
   ]
  },
  {
   "cell_type": "code",
   "execution_count": 4,
   "metadata": {},
   "outputs": [
    {
     "data": {
      "text/html": [
       "<div>\n",
       "<style scoped>\n",
       "    .dataframe tbody tr th:only-of-type {\n",
       "        vertical-align: middle;\n",
       "    }\n",
       "\n",
       "    .dataframe tbody tr th {\n",
       "        vertical-align: top;\n",
       "    }\n",
       "\n",
       "    .dataframe thead th {\n",
       "        text-align: right;\n",
       "    }\n",
       "</style>\n",
       "<table border=\"1\" class=\"dataframe\">\n",
       "  <thead>\n",
       "    <tr style=\"text-align: right;\">\n",
       "      <th></th>\n",
       "      <th>date</th>\n",
       "      <th>country</th>\n",
       "      <th>sector</th>\n",
       "      <th>exposure</th>\n",
       "      <th>mtd</th>\n",
       "      <th>nav</th>\n",
       "      <th>strategy</th>\n",
       "      <th>type</th>\n",
       "      <th>issuer</th>\n",
       "    </tr>\n",
       "  </thead>\n",
       "  <tbody>\n",
       "    <tr>\n",
       "      <th>16645</th>\n",
       "      <td>2018-10-31</td>\n",
       "      <td>Switzerland</td>\n",
       "      <td>Consumer, Non-cyclical</td>\n",
       "      <td>0.0</td>\n",
       "      <td>0.0</td>\n",
       "      <td>1.626130e+08</td>\n",
       "      <td>ARBITRAGE</td>\n",
       "      <td>Equity</td>\n",
       "      <td>Chocoladefabriken Lindt &amp; Spruengli AG</td>\n",
       "    </tr>\n",
       "    <tr>\n",
       "      <th>0</th>\n",
       "      <td>2018-01-31</td>\n",
       "      <td>Switzerland</td>\n",
       "      <td>Consumer, Non-cyclical</td>\n",
       "      <td>0.0</td>\n",
       "      <td>0.0</td>\n",
       "      <td>1.884133e+08</td>\n",
       "      <td>SPECIAL SITUATIONS</td>\n",
       "      <td>Equity</td>\n",
       "      <td>Degroof</td>\n",
       "    </tr>\n",
       "    <tr>\n",
       "      <th>6977</th>\n",
       "      <td>2018-05-31</td>\n",
       "      <td>Switzerland</td>\n",
       "      <td>Basic Materials</td>\n",
       "      <td>0.0</td>\n",
       "      <td>0.0</td>\n",
       "      <td>2.027182e+08</td>\n",
       "      <td>ARBITRAGE</td>\n",
       "      <td>Equity</td>\n",
       "      <td>Looser Holding AG</td>\n",
       "    </tr>\n",
       "  </tbody>\n",
       "</table>\n",
       "</div>"
      ],
      "text/plain": [
       "            date      country                  sector  exposure  mtd  \\\n",
       "16645 2018-10-31  Switzerland  Consumer, Non-cyclical       0.0  0.0   \n",
       "0     2018-01-31  Switzerland  Consumer, Non-cyclical       0.0  0.0   \n",
       "6977  2018-05-31  Switzerland         Basic Materials       0.0  0.0   \n",
       "\n",
       "                nav            strategy    type  \\\n",
       "16645  1.626130e+08           ARBITRAGE  Equity   \n",
       "0      1.884133e+08  SPECIAL SITUATIONS  Equity   \n",
       "6977   2.027182e+08           ARBITRAGE  Equity   \n",
       "\n",
       "                                       issuer  \n",
       "16645  Chocoladefabriken Lindt & Spruengli AG  \n",
       "0                                     Degroof  \n",
       "6977                        Looser Holding AG  "
      ]
     },
     "execution_count": 4,
     "metadata": {},
     "output_type": "execute_result"
    }
   ],
   "source": [
    "portfolio_swiss = portfolio[portfolio.country == 'Switzerland'].copy()\n",
    "portfolio_swiss.sample(3)"
   ]
  },
  {
   "cell_type": "markdown",
   "metadata": {},
   "source": [
    "**Exercise 2**: set the index of the *portfolio swiss* DataFrame to the date using the .set_index() method"
   ]
  },
  {
   "cell_type": "code",
   "execution_count": 5,
   "metadata": {},
   "outputs": [
    {
     "data": {
      "text/html": [
       "<div>\n",
       "<style scoped>\n",
       "    .dataframe tbody tr th:only-of-type {\n",
       "        vertical-align: middle;\n",
       "    }\n",
       "\n",
       "    .dataframe tbody tr th {\n",
       "        vertical-align: top;\n",
       "    }\n",
       "\n",
       "    .dataframe thead th {\n",
       "        text-align: right;\n",
       "    }\n",
       "</style>\n",
       "<table border=\"1\" class=\"dataframe\">\n",
       "  <thead>\n",
       "    <tr style=\"text-align: right;\">\n",
       "      <th></th>\n",
       "      <th>country</th>\n",
       "      <th>sector</th>\n",
       "      <th>exposure</th>\n",
       "      <th>mtd</th>\n",
       "      <th>nav</th>\n",
       "      <th>strategy</th>\n",
       "      <th>type</th>\n",
       "      <th>issuer</th>\n",
       "    </tr>\n",
       "    <tr>\n",
       "      <th>date</th>\n",
       "      <th></th>\n",
       "      <th></th>\n",
       "      <th></th>\n",
       "      <th></th>\n",
       "      <th></th>\n",
       "      <th></th>\n",
       "      <th></th>\n",
       "      <th></th>\n",
       "    </tr>\n",
       "  </thead>\n",
       "  <tbody>\n",
       "    <tr>\n",
       "      <th>2018-09-28</th>\n",
       "      <td>Switzerland</td>\n",
       "      <td>Consumer, Non-cyclical</td>\n",
       "      <td>0.0</td>\n",
       "      <td>0.0</td>\n",
       "      <td>1.969125e+08</td>\n",
       "      <td>SPECIAL SITUATIONS</td>\n",
       "      <td>Equity</td>\n",
       "      <td>Actelion Ltd</td>\n",
       "    </tr>\n",
       "    <tr>\n",
       "      <th>2018-08-31</th>\n",
       "      <td>Switzerland</td>\n",
       "      <td>Consumer, Non-cyclical</td>\n",
       "      <td>0.0</td>\n",
       "      <td>0.0</td>\n",
       "      <td>1.626941e+08</td>\n",
       "      <td>ARBITRAGE</td>\n",
       "      <td>Equity</td>\n",
       "      <td>Actelion Ltd</td>\n",
       "    </tr>\n",
       "    <tr>\n",
       "      <th>2018-09-28</th>\n",
       "      <td>Switzerland</td>\n",
       "      <td>Consumer, Cyclical</td>\n",
       "      <td>0.0</td>\n",
       "      <td>0.0</td>\n",
       "      <td>1.969125e+08</td>\n",
       "      <td>SPECIAL SITUATIONS</td>\n",
       "      <td>Equity</td>\n",
       "      <td>Cie Financiere Richemont SA</td>\n",
       "    </tr>\n",
       "  </tbody>\n",
       "</table>\n",
       "</div>"
      ],
      "text/plain": [
       "                country                  sector  exposure  mtd           nav  \\\n",
       "date                                                                           \n",
       "2018-09-28  Switzerland  Consumer, Non-cyclical       0.0  0.0  1.969125e+08   \n",
       "2018-08-31  Switzerland  Consumer, Non-cyclical       0.0  0.0  1.626941e+08   \n",
       "2018-09-28  Switzerland      Consumer, Cyclical       0.0  0.0  1.969125e+08   \n",
       "\n",
       "                      strategy    type                       issuer  \n",
       "date                                                                 \n",
       "2018-09-28  SPECIAL SITUATIONS  Equity                 Actelion Ltd  \n",
       "2018-08-31           ARBITRAGE  Equity                 Actelion Ltd  \n",
       "2018-09-28  SPECIAL SITUATIONS  Equity  Cie Financiere Richemont SA  "
      ]
     },
     "execution_count": 5,
     "metadata": {},
     "output_type": "execute_result"
    }
   ],
   "source": [
    "portfolio_swiss.set_index('date', inplace=True)\n",
    "portfolio_swiss.sample(3)"
   ]
  },
  {
   "cell_type": "markdown",
   "metadata": {},
   "source": [
    "**Exercise 3**: remove all observations for which the exposure is equal to 0"
   ]
  },
  {
   "cell_type": "code",
   "execution_count": 6,
   "metadata": {},
   "outputs": [
    {
     "data": {
      "text/html": [
       "<div>\n",
       "<style scoped>\n",
       "    .dataframe tbody tr th:only-of-type {\n",
       "        vertical-align: middle;\n",
       "    }\n",
       "\n",
       "    .dataframe tbody tr th {\n",
       "        vertical-align: top;\n",
       "    }\n",
       "\n",
       "    .dataframe thead th {\n",
       "        text-align: right;\n",
       "    }\n",
       "</style>\n",
       "<table border=\"1\" class=\"dataframe\">\n",
       "  <thead>\n",
       "    <tr style=\"text-align: right;\">\n",
       "      <th></th>\n",
       "      <th>country</th>\n",
       "      <th>sector</th>\n",
       "      <th>exposure</th>\n",
       "      <th>mtd</th>\n",
       "      <th>nav</th>\n",
       "      <th>strategy</th>\n",
       "      <th>type</th>\n",
       "      <th>issuer</th>\n",
       "    </tr>\n",
       "    <tr>\n",
       "      <th>date</th>\n",
       "      <th></th>\n",
       "      <th></th>\n",
       "      <th></th>\n",
       "      <th></th>\n",
       "      <th></th>\n",
       "      <th></th>\n",
       "      <th></th>\n",
       "      <th></th>\n",
       "    </tr>\n",
       "  </thead>\n",
       "  <tbody>\n",
       "    <tr>\n",
       "      <th>2018-12-31</th>\n",
       "      <td>Switzerland</td>\n",
       "      <td>Consumer, Non-cyclical</td>\n",
       "      <td>1.174518e+06</td>\n",
       "      <td>-252067.716342</td>\n",
       "      <td>1.019061e+08</td>\n",
       "      <td>CAPITAL MARKETS</td>\n",
       "      <td>Equity</td>\n",
       "      <td>Polyphor AG</td>\n",
       "    </tr>\n",
       "    <tr>\n",
       "      <th>2018-08-31</th>\n",
       "      <td>Switzerland</td>\n",
       "      <td>Industrial</td>\n",
       "      <td>-4.625864e+01</td>\n",
       "      <td>4.635025</td>\n",
       "      <td>1.626941e+08</td>\n",
       "      <td>ARBITRAGE</td>\n",
       "      <td>Equity</td>\n",
       "      <td>Arbonia AG</td>\n",
       "    </tr>\n",
       "    <tr>\n",
       "      <th>2018-06-29</th>\n",
       "      <td>Switzerland</td>\n",
       "      <td>Consumer, Non-cyclical</td>\n",
       "      <td>2.204701e+06</td>\n",
       "      <td>-337720.152444</td>\n",
       "      <td>1.886550e+08</td>\n",
       "      <td>CAPITAL MARKETS</td>\n",
       "      <td>Equity</td>\n",
       "      <td>Polyphor AG</td>\n",
       "    </tr>\n",
       "  </tbody>\n",
       "</table>\n",
       "</div>"
      ],
      "text/plain": [
       "                country                  sector      exposure            mtd  \\\n",
       "date                                                                           \n",
       "2018-12-31  Switzerland  Consumer, Non-cyclical  1.174518e+06 -252067.716342   \n",
       "2018-08-31  Switzerland              Industrial -4.625864e+01       4.635025   \n",
       "2018-06-29  Switzerland  Consumer, Non-cyclical  2.204701e+06 -337720.152444   \n",
       "\n",
       "                     nav         strategy    type       issuer  \n",
       "date                                                            \n",
       "2018-12-31  1.019061e+08  CAPITAL MARKETS  Equity  Polyphor AG  \n",
       "2018-08-31  1.626941e+08        ARBITRAGE  Equity   Arbonia AG  \n",
       "2018-06-29  1.886550e+08  CAPITAL MARKETS  Equity  Polyphor AG  "
      ]
     },
     "execution_count": 6,
     "metadata": {},
     "output_type": "execute_result"
    }
   ],
   "source": [
    "portfolio_swiss = portfolio_swiss[portfolio_swiss.exposure != 0]\n",
    "portfolio_swiss.sample(3)"
   ]
  },
  {
   "cell_type": "markdown",
   "metadata": {},
   "source": [
    "## Creating new columns\n",
    "The pandas package makes it straightforward to create additional (computed) columns of the database.\n",
    "\n",
    "**Exercise 4**: Create two new columns names *exposure_rebased* and *mtd_rebased* which take the original exposure and mtd columns and divide the by the nav"
   ]
  },
  {
   "cell_type": "code",
   "execution_count": 7,
   "metadata": {},
   "outputs": [
    {
     "data": {
      "text/html": [
       "<div>\n",
       "<style scoped>\n",
       "    .dataframe tbody tr th:only-of-type {\n",
       "        vertical-align: middle;\n",
       "    }\n",
       "\n",
       "    .dataframe tbody tr th {\n",
       "        vertical-align: top;\n",
       "    }\n",
       "\n",
       "    .dataframe thead th {\n",
       "        text-align: right;\n",
       "    }\n",
       "</style>\n",
       "<table border=\"1\" class=\"dataframe\">\n",
       "  <thead>\n",
       "    <tr style=\"text-align: right;\">\n",
       "      <th></th>\n",
       "      <th>country</th>\n",
       "      <th>sector</th>\n",
       "      <th>exposure</th>\n",
       "      <th>mtd</th>\n",
       "      <th>nav</th>\n",
       "      <th>strategy</th>\n",
       "      <th>type</th>\n",
       "      <th>issuer</th>\n",
       "      <th>exposure_rebased</th>\n",
       "      <th>mtd_rebased</th>\n",
       "    </tr>\n",
       "    <tr>\n",
       "      <th>date</th>\n",
       "      <th></th>\n",
       "      <th></th>\n",
       "      <th></th>\n",
       "      <th></th>\n",
       "      <th></th>\n",
       "      <th></th>\n",
       "      <th></th>\n",
       "      <th></th>\n",
       "      <th></th>\n",
       "      <th></th>\n",
       "    </tr>\n",
       "  </thead>\n",
       "  <tbody>\n",
       "    <tr>\n",
       "      <th>2018-01-31</th>\n",
       "      <td>Switzerland</td>\n",
       "      <td>Industrial</td>\n",
       "      <td>-5.353807e+01</td>\n",
       "      <td>-3.502142</td>\n",
       "      <td>1.884133e+08</td>\n",
       "      <td>ARBITRAGE</td>\n",
       "      <td>Equity</td>\n",
       "      <td>Arbonia AG</td>\n",
       "      <td>-2.841522e-07</td>\n",
       "      <td>-1.858755e-08</td>\n",
       "    </tr>\n",
       "    <tr>\n",
       "      <th>2018-09-28</th>\n",
       "      <td>Switzerland</td>\n",
       "      <td>Industrial</td>\n",
       "      <td>1.410003e+06</td>\n",
       "      <td>-86350.851357</td>\n",
       "      <td>1.969125e+08</td>\n",
       "      <td>CAPITAL MARKETS</td>\n",
       "      <td>Equity</td>\n",
       "      <td>Klingelnberg AG</td>\n",
       "      <td>7.160556e-03</td>\n",
       "      <td>-4.385239e-04</td>\n",
       "    </tr>\n",
       "    <tr>\n",
       "      <th>2018-11-30</th>\n",
       "      <td>Switzerland</td>\n",
       "      <td>Industrial</td>\n",
       "      <td>-3.679288e+01</td>\n",
       "      <td>0.816842</td>\n",
       "      <td>1.335799e+08</td>\n",
       "      <td>ARBITRAGE</td>\n",
       "      <td>Equity</td>\n",
       "      <td>Arbonia AG</td>\n",
       "      <td>-2.754372e-07</td>\n",
       "      <td>6.115008e-09</td>\n",
       "    </tr>\n",
       "  </tbody>\n",
       "</table>\n",
       "</div>"
      ],
      "text/plain": [
       "                country      sector      exposure           mtd           nav  \\\n",
       "date                                                                            \n",
       "2018-01-31  Switzerland  Industrial -5.353807e+01     -3.502142  1.884133e+08   \n",
       "2018-09-28  Switzerland  Industrial  1.410003e+06 -86350.851357  1.969125e+08   \n",
       "2018-11-30  Switzerland  Industrial -3.679288e+01      0.816842  1.335799e+08   \n",
       "\n",
       "                   strategy    type           issuer  exposure_rebased  \\\n",
       "date                                                                     \n",
       "2018-01-31        ARBITRAGE  Equity       Arbonia AG     -2.841522e-07   \n",
       "2018-09-28  CAPITAL MARKETS  Equity  Klingelnberg AG      7.160556e-03   \n",
       "2018-11-30        ARBITRAGE  Equity       Arbonia AG     -2.754372e-07   \n",
       "\n",
       "             mtd_rebased  \n",
       "date                      \n",
       "2018-01-31 -1.858755e-08  \n",
       "2018-09-28 -4.385239e-04  \n",
       "2018-11-30  6.115008e-09  "
      ]
     },
     "execution_count": 7,
     "metadata": {},
     "output_type": "execute_result"
    }
   ],
   "source": [
    "portfolio_swiss.loc[:, 'exposure_rebased'] = portfolio_swiss.exposure / portfolio_swiss.nav\n",
    "portfolio_swiss.loc[:, 'mtd_rebased'] = portfolio_swiss.mtd / portfolio_swiss.nav\n",
    "portfolio_swiss.sample(3)"
   ]
  },
  {
   "cell_type": "markdown",
   "metadata": {},
   "source": [
    "**Exercise 5**: drop the original exposure and mtd columns"
   ]
  },
  {
   "cell_type": "code",
   "execution_count": 8,
   "metadata": {},
   "outputs": [
    {
     "data": {
      "text/html": [
       "<div>\n",
       "<style scoped>\n",
       "    .dataframe tbody tr th:only-of-type {\n",
       "        vertical-align: middle;\n",
       "    }\n",
       "\n",
       "    .dataframe tbody tr th {\n",
       "        vertical-align: top;\n",
       "    }\n",
       "\n",
       "    .dataframe thead th {\n",
       "        text-align: right;\n",
       "    }\n",
       "</style>\n",
       "<table border=\"1\" class=\"dataframe\">\n",
       "  <thead>\n",
       "    <tr style=\"text-align: right;\">\n",
       "      <th></th>\n",
       "      <th>country</th>\n",
       "      <th>sector</th>\n",
       "      <th>nav</th>\n",
       "      <th>strategy</th>\n",
       "      <th>type</th>\n",
       "      <th>issuer</th>\n",
       "      <th>exposure_rebased</th>\n",
       "      <th>mtd_rebased</th>\n",
       "    </tr>\n",
       "    <tr>\n",
       "      <th>date</th>\n",
       "      <th></th>\n",
       "      <th></th>\n",
       "      <th></th>\n",
       "      <th></th>\n",
       "      <th></th>\n",
       "      <th></th>\n",
       "      <th></th>\n",
       "      <th></th>\n",
       "    </tr>\n",
       "  </thead>\n",
       "  <tbody>\n",
       "    <tr>\n",
       "      <th>2018-01-31</th>\n",
       "      <td>Switzerland</td>\n",
       "      <td>Industrial</td>\n",
       "      <td>1.884133e+08</td>\n",
       "      <td>ARBITRAGE</td>\n",
       "      <td>Equity</td>\n",
       "      <td>Arbonia AG</td>\n",
       "      <td>2.841522e-07</td>\n",
       "      <td>1.858755e-08</td>\n",
       "    </tr>\n",
       "    <tr>\n",
       "      <th>2018-11-30</th>\n",
       "      <td>Switzerland</td>\n",
       "      <td>Consumer, Non-cyclical</td>\n",
       "      <td>1.335799e+08</td>\n",
       "      <td>CAPITAL MARKETS</td>\n",
       "      <td>Equity</td>\n",
       "      <td>Polyphor AG</td>\n",
       "      <td>1.200457e-02</td>\n",
       "      <td>-2.250990e-03</td>\n",
       "    </tr>\n",
       "    <tr>\n",
       "      <th>2018-07-31</th>\n",
       "      <td>Switzerland</td>\n",
       "      <td>Consumer, Non-cyclical</td>\n",
       "      <td>1.745121e+08</td>\n",
       "      <td>CAPITAL MARKETS</td>\n",
       "      <td>Equity</td>\n",
       "      <td>Polyphor AG</td>\n",
       "      <td>1.259741e-02</td>\n",
       "      <td>-3.610123e-05</td>\n",
       "    </tr>\n",
       "  </tbody>\n",
       "</table>\n",
       "</div>"
      ],
      "text/plain": [
       "                country                  sector           nav  \\\n",
       "date                                                            \n",
       "2018-01-31  Switzerland              Industrial  1.884133e+08   \n",
       "2018-11-30  Switzerland  Consumer, Non-cyclical  1.335799e+08   \n",
       "2018-07-31  Switzerland  Consumer, Non-cyclical  1.745121e+08   \n",
       "\n",
       "                   strategy    type       issuer  exposure_rebased  \\\n",
       "date                                                                 \n",
       "2018-01-31        ARBITRAGE  Equity   Arbonia AG      2.841522e-07   \n",
       "2018-11-30  CAPITAL MARKETS  Equity  Polyphor AG      1.200457e-02   \n",
       "2018-07-31  CAPITAL MARKETS  Equity  Polyphor AG      1.259741e-02   \n",
       "\n",
       "             mtd_rebased  \n",
       "date                      \n",
       "2018-01-31  1.858755e-08  \n",
       "2018-11-30 -2.250990e-03  \n",
       "2018-07-31 -3.610123e-05  "
      ]
     },
     "execution_count": 8,
     "metadata": {},
     "output_type": "execute_result"
    }
   ],
   "source": [
    "portfolio_swiss.drop(['exposure', 'mtd'], axis=1, inplace=True)\n",
    "portfolio_swiss.sample(3)"
   ]
  },
  {
   "cell_type": "markdown",
   "metadata": {},
   "source": [
    "## Computing results\n",
    "**Exercise 6**: show all the results for the issure *Nestle SA*"
   ]
  },
  {
   "cell_type": "code",
   "execution_count": 9,
   "metadata": {},
   "outputs": [
    {
     "data": {
      "text/html": [
       "<div>\n",
       "<style scoped>\n",
       "    .dataframe tbody tr th:only-of-type {\n",
       "        vertical-align: middle;\n",
       "    }\n",
       "\n",
       "    .dataframe tbody tr th {\n",
       "        vertical-align: top;\n",
       "    }\n",
       "\n",
       "    .dataframe thead th {\n",
       "        text-align: right;\n",
       "    }\n",
       "</style>\n",
       "<table border=\"1\" class=\"dataframe\">\n",
       "  <thead>\n",
       "    <tr style=\"text-align: right;\">\n",
       "      <th></th>\n",
       "      <th>country</th>\n",
       "      <th>sector</th>\n",
       "      <th>nav</th>\n",
       "      <th>strategy</th>\n",
       "      <th>type</th>\n",
       "      <th>issuer</th>\n",
       "      <th>exposure_rebased</th>\n",
       "      <th>mtd_rebased</th>\n",
       "    </tr>\n",
       "    <tr>\n",
       "      <th>date</th>\n",
       "      <th></th>\n",
       "      <th></th>\n",
       "      <th></th>\n",
       "      <th></th>\n",
       "      <th></th>\n",
       "      <th></th>\n",
       "      <th></th>\n",
       "      <th></th>\n",
       "    </tr>\n",
       "  </thead>\n",
       "  <tbody>\n",
       "    <tr>\n",
       "      <th>2018-07-31</th>\n",
       "      <td>Switzerland</td>\n",
       "      <td>Consumer, Non-cyclical</td>\n",
       "      <td>1.745121e+08</td>\n",
       "      <td>SPECIAL SITUATIONS</td>\n",
       "      <td>Listed Option</td>\n",
       "      <td>Nestle SA</td>\n",
       "      <td>0.027597</td>\n",
       "      <td>-0.000090</td>\n",
       "    </tr>\n",
       "    <tr>\n",
       "      <th>2018-08-31</th>\n",
       "      <td>Switzerland</td>\n",
       "      <td>Consumer, Non-cyclical</td>\n",
       "      <td>1.626941e+08</td>\n",
       "      <td>SPECIAL SITUATIONS</td>\n",
       "      <td>Listed Option</td>\n",
       "      <td>Nestle SA</td>\n",
       "      <td>0.014249</td>\n",
       "      <td>-0.000592</td>\n",
       "    </tr>\n",
       "  </tbody>\n",
       "</table>\n",
       "</div>"
      ],
      "text/plain": [
       "                country                  sector           nav  \\\n",
       "date                                                            \n",
       "2018-07-31  Switzerland  Consumer, Non-cyclical  1.745121e+08   \n",
       "2018-08-31  Switzerland  Consumer, Non-cyclical  1.626941e+08   \n",
       "\n",
       "                      strategy           type     issuer  exposure_rebased  \\\n",
       "date                                                                         \n",
       "2018-07-31  SPECIAL SITUATIONS  Listed Option  Nestle SA          0.027597   \n",
       "2018-08-31  SPECIAL SITUATIONS  Listed Option  Nestle SA          0.014249   \n",
       "\n",
       "            mtd_rebased  \n",
       "date                     \n",
       "2018-07-31    -0.000090  \n",
       "2018-08-31    -0.000592  "
      ]
     },
     "execution_count": 9,
     "metadata": {},
     "output_type": "execute_result"
    }
   ],
   "source": [
    "portfolio_swiss[portfolio_swiss.issuer == 'Nestle SA']"
   ]
  },
  {
   "cell_type": "markdown",
   "metadata": {},
   "source": [
    "**Exercise 7**: copute the total performance for each issuer by summing the individual mtd_rebased values per issuer"
   ]
  },
  {
   "cell_type": "code",
   "execution_count": 10,
   "metadata": {},
   "outputs": [
    {
     "data": {
      "text/plain": [
       "issuer\n",
       "Arbonia AG              0.000000\n",
       "Klingelnberg AG        -0.000299\n",
       "Nestle SA              -0.000682\n",
       "Polyphor AG            -0.010898\n",
       "SWISS RE AG            -0.000302\n",
       "Sensirion Holding AG    0.001022\n",
       "Temenos Group AG        0.000552\n",
       "Name: mtd_rebased, dtype: float64"
      ]
     },
     "execution_count": 10,
     "metadata": {},
     "output_type": "execute_result"
    }
   ],
   "source": [
    "portfolio_swiss_performance = portfolio_swiss.groupby('issuer').sum()['mtd_rebased']\n",
    "portfolio_swiss_performance"
   ]
  },
  {
   "cell_type": "markdown",
   "metadata": {},
   "source": [
    "**Exercise 8**: sort the values such that the largest winners are at the top"
   ]
  },
  {
   "cell_type": "code",
   "execution_count": 11,
   "metadata": {},
   "outputs": [
    {
     "data": {
      "text/plain": [
       "issuer\n",
       "Sensirion Holding AG    0.001022\n",
       "Temenos Group AG        0.000552\n",
       "Arbonia AG              0.000000\n",
       "Klingelnberg AG        -0.000299\n",
       "SWISS RE AG            -0.000302\n",
       "Nestle SA              -0.000682\n",
       "Polyphor AG            -0.010898\n",
       "Name: mtd_rebased, dtype: float64"
      ]
     },
     "execution_count": 11,
     "metadata": {},
     "output_type": "execute_result"
    }
   ],
   "source": [
    "portfolio_swiss_performance.sort_values(ascending=False)"
   ]
  },
  {
   "cell_type": "markdown",
   "metadata": {},
   "source": [
    "**Exercise 8**: determine the PNL per strategy in a similar way as above**"
   ]
  },
  {
   "cell_type": "code",
   "execution_count": 12,
   "metadata": {},
   "outputs": [
    {
     "data": {
      "text/plain": [
       "strategy\n",
       "ARBITRAGE             0.000250\n",
       "CAPITAL MARKETS      -0.010175\n",
       "SPECIAL SITUATIONS   -0.000682\n",
       "Name: mtd_rebased, dtype: float64"
      ]
     },
     "execution_count": 12,
     "metadata": {},
     "output_type": "execute_result"
    }
   ],
   "source": [
    "portfolio_swiss.groupby('strategy').sum()['mtd_rebased']"
   ]
  }
 ],
 "metadata": {
  "colab": {
   "collapsed_sections": [],
   "name": "PortfolioAnalysis.ipynb",
   "provenance": []
  },
  "kernelspec": {
   "display_name": "Python 3 (ipykernel)",
   "language": "python",
   "name": "python3"
  },
  "language_info": {
   "codemirror_mode": {
    "name": "ipython",
    "version": 3
   },
   "file_extension": ".py",
   "mimetype": "text/x-python",
   "name": "python",
   "nbconvert_exporter": "python",
   "pygments_lexer": "ipython3",
   "version": "3.9.13"
  },
  "toc": {
   "base_numbering": 1,
   "nav_menu": {},
   "number_sections": true,
   "sideBar": true,
   "skip_h1_title": false,
   "title_cell": "Table of Contents",
   "title_sidebar": "Contents",
   "toc_cell": false,
   "toc_position": {},
   "toc_section_display": true,
   "toc_window_display": false
  },
  "varInspector": {
   "cols": {
    "lenName": 16,
    "lenType": 16,
    "lenVar": 40
   },
   "kernels_config": {
    "python": {
     "delete_cmd_postfix": "",
     "delete_cmd_prefix": "del ",
     "library": "var_list.py",
     "varRefreshCmd": "print(var_dic_list())"
    },
    "r": {
     "delete_cmd_postfix": ") ",
     "delete_cmd_prefix": "rm(",
     "library": "var_list.r",
     "varRefreshCmd": "cat(var_dic_list()) "
    }
   },
   "types_to_exclude": [
    "module",
    "function",
    "builtin_function_or_method",
    "instance",
    "_Feature"
   ],
   "window_display": false
  }
 },
 "nbformat": 4,
 "nbformat_minor": 1
}
